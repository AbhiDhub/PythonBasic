{
 "cells": [
  {
   "cell_type": "markdown",
   "id": "c698dd61",
   "metadata": {},
   "source": [
    "# Control Flow"
   ]
  },
  {
   "cell_type": "markdown",
   "id": "125bd11a",
   "metadata": {},
   "source": [
    "# Functions"
   ]
  },
  {
   "cell_type": "markdown",
   "id": "80f5b26f",
   "metadata": {},
   "source": [
    "# List\n",
    "A list is an ordered set of objects in Python."
   ]
  },
  {
   "cell_type": "markdown",
   "id": "a5495e22",
   "metadata": {},
   "source": [
    "## Create List"
   ]
  },
  {
   "cell_type": "code",
   "execution_count": 3,
   "id": "cabdeb16",
   "metadata": {},
   "outputs": [
    {
     "data": {
      "text/plain": [
       "[161, 170, 167, 164, 165]"
      ]
     },
     "execution_count": 3,
     "metadata": {},
     "output_type": "execute_result"
    }
   ],
   "source": [
    "heights_cm=[161,170,167,164,165]\n",
    "heights_cm"
   ]
  },
  {
   "cell_type": "markdown",
   "id": "ff6c9f7e",
   "metadata": {},
   "source": [
    "### List Attributes"
   ]
  },
  {
   "cell_type": "code",
   "execution_count": 4,
   "id": "9b08e138",
   "metadata": {},
   "outputs": [
    {
     "name": "stdout",
     "output_type": "stream",
     "text": [
      "<class 'list'>\n",
      "Number of elements in the list  5\n",
      "Maximum element in the list  170\n",
      "Minimum element in the list  161\n",
      "Sum of Elements 827\n"
     ]
    }
   ],
   "source": [
    "print(type(heights_cm))\n",
    "print('Number of elements in the list ', len(heights_cm))\n",
    "print('Maximum element in the list ', max(heights_cm))\n",
    "print('Minimum element in the list ', min(heights_cm))\n",
    "print('Sum of Elements', sum(heights_cm))"
   ]
  },
  {
   "cell_type": "markdown",
   "id": "583bfbd0",
   "metadata": {},
   "source": [
    "### Range in python\n",
    "1. Set of numbers\n",
    "2. The function range takes a single input, and generates numbers starting at `0` and ending at the number before the input. i.e, `n-1`\n",
    "3. Very important for loops"
   ]
  },
  {
   "cell_type": "code",
   "execution_count": 5,
   "id": "d2dac942",
   "metadata": {},
   "outputs": [
    {
     "data": {
      "text/plain": [
       "range(0, 10)"
      ]
     },
     "execution_count": 5,
     "metadata": {},
     "output_type": "execute_result"
    }
   ],
   "source": [
    "range(10)"
   ]
  },
  {
   "cell_type": "code",
   "execution_count": 6,
   "id": "aac5397c",
   "metadata": {},
   "outputs": [
    {
     "name": "stdout",
     "output_type": "stream",
     "text": [
      "<class 'range'>\n"
     ]
    }
   ],
   "source": [
    "print(type(range(10)))"
   ]
  },
  {
   "cell_type": "markdown",
   "id": "3e95638c",
   "metadata": {},
   "source": [
    "### Make list using range"
   ]
  },
  {
   "cell_type": "code",
   "execution_count": 7,
   "id": "eae356ad",
   "metadata": {},
   "outputs": [
    {
     "data": {
      "text/plain": [
       "[0, 1, 2, 3, 4, 5, 6, 7, 8, 9]"
      ]
     },
     "execution_count": 7,
     "metadata": {},
     "output_type": "execute_result"
    }
   ],
   "source": [
    "list(range(10))"
   ]
  },
  {
   "cell_type": "code",
   "execution_count": 8,
   "id": "8464095c",
   "metadata": {},
   "outputs": [
    {
     "data": {
      "text/plain": [
       "list"
      ]
     },
     "execution_count": 8,
     "metadata": {},
     "output_type": "execute_result"
    }
   ],
   "source": [
    "type(list(range(10)))"
   ]
  },
  {
   "cell_type": "code",
   "execution_count": 9,
   "id": "1f85f373",
   "metadata": {},
   "outputs": [
    {
     "data": {
      "text/plain": [
       "[2, 3, 4, 5, 6, 7, 8, 9]"
      ]
     },
     "execution_count": 9,
     "metadata": {},
     "output_type": "execute_result"
    }
   ],
   "source": [
    "list(range(2,10))"
   ]
  },
  {
   "cell_type": "code",
   "execution_count": 10,
   "id": "ba786145",
   "metadata": {},
   "outputs": [
    {
     "data": {
      "text/plain": [
       "[2, 4, 6, 8]"
      ]
     },
     "execution_count": 10,
     "metadata": {},
     "output_type": "execute_result"
    }
   ],
   "source": [
    "list(range(2,10,2))"
   ]
  },
  {
   "cell_type": "markdown",
   "id": "aedc44b2",
   "metadata": {},
   "source": [
    "## Slicing and Selecting"
   ]
  },
  {
   "cell_type": "markdown",
   "id": "71ed3846",
   "metadata": {},
   "source": [
    "### Select item for given index"
   ]
  },
  {
   "cell_type": "code",
   "execution_count": 20,
   "id": "a33acf65",
   "metadata": {},
   "outputs": [
    {
     "data": {
      "text/plain": [
       "[161, 170, 167, 164, 165]"
      ]
     },
     "execution_count": 20,
     "metadata": {},
     "output_type": "execute_result"
    }
   ],
   "source": [
    "heights_cm"
   ]
  },
  {
   "cell_type": "code",
   "execution_count": 12,
   "id": "f91fdd34",
   "metadata": {},
   "outputs": [
    {
     "name": "stdout",
     "output_type": "stream",
     "text": [
      "161\n"
     ]
    }
   ],
   "source": [
    "first_object=heights_cm[0]\n",
    "print(first_object)"
   ]
  },
  {
   "cell_type": "code",
   "execution_count": 14,
   "id": "f85a4df9",
   "metadata": {},
   "outputs": [
    {
     "name": "stdout",
     "output_type": "stream",
     "text": [
      "165\n",
      "165\n"
     ]
    }
   ],
   "source": [
    "last_object=heights_cm[-1]\n",
    "print(last_object)\n",
    "last_object2=heights_cm[len(heights_cm)-1]\n",
    "print(last_object)"
   ]
  },
  {
   "cell_type": "code",
   "execution_count": 15,
   "id": "7112f9d7",
   "metadata": {},
   "outputs": [
    {
     "data": {
      "text/plain": [
       "5"
      ]
     },
     "execution_count": 15,
     "metadata": {},
     "output_type": "execute_result"
    }
   ],
   "source": [
    "len(heights_cm)"
   ]
  },
  {
   "cell_type": "markdown",
   "id": "eff5511a",
   "metadata": {},
   "source": [
    "### Slicing"
   ]
  },
  {
   "cell_type": "code",
   "execution_count": 16,
   "id": "1f9c5ff8",
   "metadata": {},
   "outputs": [
    {
     "data": {
      "text/plain": [
       "[161, 167, 165]"
      ]
     },
     "execution_count": 16,
     "metadata": {},
     "output_type": "execute_result"
    }
   ],
   "source": [
    "heights_cm[::2]"
   ]
  },
  {
   "cell_type": "code",
   "execution_count": 17,
   "id": "5e65f9cf",
   "metadata": {},
   "outputs": [
    {
     "data": {
      "text/plain": [
       "[167, 164]"
      ]
     },
     "execution_count": 17,
     "metadata": {},
     "output_type": "execute_result"
    }
   ],
   "source": [
    "heights_cm[2:4]"
   ]
  },
  {
   "cell_type": "code",
   "execution_count": 18,
   "id": "a737c4e0",
   "metadata": {},
   "outputs": [
    {
     "data": {
      "text/plain": [
       "165"
      ]
     },
     "execution_count": 18,
     "metadata": {},
     "output_type": "execute_result"
    }
   ],
   "source": [
    "heights_cm[4]"
   ]
  },
  {
   "cell_type": "markdown",
   "id": "c3483db1",
   "metadata": {},
   "source": [
    "### Get Index of an item\n",
    "```python3\n",
    "list.index(item)\n",
    "```"
   ]
  },
  {
   "cell_type": "code",
   "execution_count": 19,
   "id": "24f074f9",
   "metadata": {},
   "outputs": [
    {
     "data": {
      "text/plain": [
       "4"
      ]
     },
     "execution_count": 19,
     "metadata": {},
     "output_type": "execute_result"
    }
   ],
   "source": [
    "heights_cm.index(165)"
   ]
  },
  {
   "cell_type": "markdown",
   "id": "e7b4e93a",
   "metadata": {},
   "source": [
    "### Can list elements be accessed in any order?\n",
    "1. A list whose items are randomly accessed using the `randint()` function. \n",
    "2. `randint()` returns a random integer in range [start, end] including the end points."
   ]
  },
  {
   "cell_type": "code",
   "execution_count": 50,
   "id": "f2b415c3",
   "metadata": {},
   "outputs": [
    {
     "name": "stdout",
     "output_type": "stream",
     "text": [
      "Element selected randomly is : Nitrogen ; whose index is:  4\n",
      "Element selected randomly is : Helium ; whose index is:  1\n"
     ]
    }
   ],
   "source": [
    "from random import randint\n",
    "index = randint(0, len(elements) - 1)\n",
    "print(\"Element selected randomly is :\", elements[index],\"; whose index is: \",index)\n",
    "index = randint(0, len(elements) - 1)\n",
    "print(\"Element selected randomly is :\", elements[index],\"; whose index is: \",index)"
   ]
  },
  {
   "cell_type": "code",
   "execution_count": 54,
   "id": "2c5d11f9",
   "metadata": {},
   "outputs": [
    {
     "name": "stdout",
     "output_type": "stream",
     "text": [
      "for Count:  0 , The element selected randomly is:  Nitrogen ; whose index is:  4\n",
      "for Count:  1 , The element selected randomly is:  Helium ; whose index is:  1\n",
      "for Count:  2 , The element selected randomly is:  Helium ; whose index is:  1\n",
      "for Count:  3 , The element selected randomly is:  Oxygen ; whose index is:  3\n",
      "for Count:  4 , The element selected randomly is:  Hydrogen ; whose index is:  0\n"
     ]
    }
   ],
   "source": [
    "elements = ['Hydrogen', 'Helium', 'Carbon', 'Oxygen','Nitrogen']\n",
    "for count in range(5):\n",
    "    index = randint(0, len(elements) - 1)\n",
    "    print(\"for Count: \",count,\", The element selected randomly is: \", elements[index],\"; whose index is: \",index)"
   ]
  },
  {
   "cell_type": "markdown",
   "id": "0ec693c0",
   "metadata": {},
   "source": [
    "## Multiple DataTypes\n",
    "\n",
    "A list can contain **multiple datatypes**."
   ]
  },
  {
   "cell_type": "code",
   "execution_count": 23,
   "id": "e4c47c6c",
   "metadata": {},
   "outputs": [
    {
     "name": "stdout",
     "output_type": "stream",
     "text": [
      "[1, 2, 3, 4, '1', 'one', 'two', '2']\n",
      "<class 'list'>\n",
      "<class 'str'>\n",
      "<class 'int'>\n"
     ]
    }
   ],
   "source": [
    "ints_strings=[1,2,3,4,'1','one','two','2']\n",
    "print(ints_strings)\n",
    "print(type(ints_strings))\n",
    "print(type(ints_strings[ints_strings.index('one')]))\n",
    "print(type(ints_strings[ints_strings.index(1)]))"
   ]
  },
  {
   "cell_type": "markdown",
   "id": "9e985779",
   "metadata": {},
   "source": [
    "## List within List\n",
    "\n",
    "Several lists into one list\n",
    "\n",
    "Below is a list of list of person names and their height"
   ]
  },
  {
   "cell_type": "code",
   "execution_count": 24,
   "id": "074f81ad",
   "metadata": {},
   "outputs": [
    {
     "name": "stdout",
     "output_type": "stream",
     "text": [
      "[['Dengri', 174], ['Obama', 178], ['Biden', 181], ['Modi', 169]]\n",
      "<class 'list'>\n"
     ]
    }
   ],
   "source": [
    "names_heights=[['Dengri',174],['Obama',178],['Biden',181],['Modi',169]]\n",
    "print(names_heights)\n",
    "print(type(names_heights))"
   ]
  },
  {
   "cell_type": "markdown",
   "id": "0de5f0ad",
   "metadata": {},
   "source": [
    "### Slicing and selection"
   ]
  },
  {
   "cell_type": "code",
   "execution_count": 25,
   "id": "b5e22408",
   "metadata": {},
   "outputs": [
    {
     "data": {
      "text/plain": [
       "['Dengri', 174]"
      ]
     },
     "execution_count": 25,
     "metadata": {},
     "output_type": "execute_result"
    }
   ],
   "source": [
    "names_heights[0]"
   ]
  },
  {
   "cell_type": "code",
   "execution_count": 26,
   "id": "adae1026",
   "metadata": {},
   "outputs": [
    {
     "data": {
      "text/plain": [
       "'Dengri'"
      ]
     },
     "execution_count": 26,
     "metadata": {},
     "output_type": "execute_result"
    }
   ],
   "source": [
    "names_heights[0][0]"
   ]
  },
  {
   "cell_type": "code",
   "execution_count": 29,
   "id": "571e272e",
   "metadata": {},
   "outputs": [
    {
     "data": {
      "text/plain": [
       "[['Dengri', 174], ['Biden', 181]]"
      ]
     },
     "execution_count": 29,
     "metadata": {},
     "output_type": "execute_result"
    }
   ],
   "source": [
    "names_heights[::2]"
   ]
  },
  {
   "cell_type": "code",
   "execution_count": 31,
   "id": "80105ceb",
   "metadata": {},
   "outputs": [
    {
     "data": {
      "text/plain": [
       "[['Dengri', 174], ['Obama', 178]]"
      ]
     },
     "execution_count": 31,
     "metadata": {},
     "output_type": "execute_result"
    }
   ],
   "source": [
    "names_heights[0:2]"
   ]
  },
  {
   "cell_type": "markdown",
   "id": "e2c106ca",
   "metadata": {},
   "source": [
    "### How to create list within list"
   ]
  },
  {
   "cell_type": "markdown",
   "id": "60bc3b14",
   "metadata": {},
   "source": [
    "#### Zip Command\n",
    "1. `zip` takes **two (or more) lists as inputs** and **returns an object that contains a list of pairs**. Each pair contains one element from each of the inputs.To see the nested lists, **you should convert the zip object to a list** first.\n",
    "\n",
    "**<span style=\"color:Red\">NOTE:</span>** If both the lists don’t have the same number of elements even then the zip command will work. In that case it will return a list of pairs based on the smallest length of the list."
   ]
  },
  {
   "cell_type": "code",
   "execution_count": 32,
   "id": "429d8818",
   "metadata": {},
   "outputs": [
    {
     "name": "stdout",
     "output_type": "stream",
     "text": [
      "['Jenny', 'Alexus', 'Sam', 'Grace']\n",
      "['Elphonse', 'Dr. Doggy DDS', 'Carter', 'Ralph']\n"
     ]
    }
   ],
   "source": [
    "names = ['Jenny', 'Alexus', 'Sam', 'Grace']\n",
    "dogs_names = ['Elphonse', 'Dr. Doggy DDS', 'Carter','Ralph']\n",
    "print(names)\n",
    "print(dogs_names)"
   ]
  },
  {
   "cell_type": "code",
   "execution_count": 36,
   "id": "53c7ba59",
   "metadata": {},
   "outputs": [
    {
     "name": "stdout",
     "output_type": "stream",
     "text": [
      "<class 'zip'>\n"
     ]
    }
   ],
   "source": [
    "names_dogs_names=zip(names,dogs_names)\n",
    "print(type(names_dogs_names))"
   ]
  },
  {
   "cell_type": "code",
   "execution_count": 37,
   "id": "e1033e96",
   "metadata": {},
   "outputs": [
    {
     "name": "stdout",
     "output_type": "stream",
     "text": [
      "[('Jenny', 'Elphonse'), ('Alexus', 'Dr. Doggy DDS'), ('Sam', 'Carter'), ('Grace', 'Ralph')]\n",
      "<class 'list'>\n"
     ]
    }
   ],
   "source": [
    "names_dogs_names_list=list(names_dogs_names)\n",
    "print(names_dogs_names_list)\n",
    "print(type(names_dogs_names_list))"
   ]
  },
  {
   "cell_type": "code",
   "execution_count": 38,
   "id": "fbd5c874",
   "metadata": {},
   "outputs": [
    {
     "name": "stdout",
     "output_type": "stream",
     "text": [
      "<class 'tuple'>\n"
     ]
    }
   ],
   "source": [
    "print(type(names_dogs_names_list[0]))"
   ]
  },
  {
   "cell_type": "code",
   "execution_count": 40,
   "id": "85511085",
   "metadata": {},
   "outputs": [
    {
     "name": "stdout",
     "output_type": "stream",
     "text": [
      "3\n",
      "4\n",
      "[('Jenny', 'Elphonse'), ('Alexus', 'Dr. Doggy DDS'), ('Sam', 'Carter')]\n",
      "3\n"
     ]
    }
   ],
   "source": [
    "names = ['Jenny', 'Alexus', 'Sam']\n",
    "dogs_names = ['Elphonse', 'Dr. Doggy DDS', 'Carter','Ralph']\n",
    "print(len(names))\n",
    "print(len(dogs_names))\n",
    "names_dogs_names_list=list(zip(names,dogs_names))\n",
    "print(names_dogs_names_list)\n",
    "print(len(names_dogs_names_list))"
   ]
  },
  {
   "cell_type": "markdown",
   "id": "88501aec",
   "metadata": {},
   "source": [
    "## Append\n",
    "We can add a **single element** to a list using `.append()`. Our new element is added to the **end of the list**."
   ]
  },
  {
   "cell_type": "code",
   "execution_count": 41,
   "id": "60934d88",
   "metadata": {},
   "outputs": [
    {
     "name": "stdout",
     "output_type": "stream",
     "text": [
      "['daisies', 'periwinkle']\n",
      "['daisies', 'periwinkle', 'tulips']\n",
      "['daisies', 'periwinkle', 'tulips', 'roses']\n"
     ]
    }
   ],
   "source": [
    "orders = ['daisies', 'periwinkle']\n",
    "print(orders)\n",
    "orders.append('tulips')\n",
    "print(orders)\n",
    "orders.append('roses') \n",
    "print(orders)"
   ]
  },
  {
   "cell_type": "markdown",
   "id": "d7d317dc",
   "metadata": {},
   "source": [
    "### Adding two list\n",
    "1. When we want to **add multiple items to a list**, we can use `+` to combine two lists. \n",
    "2. We can only use `+` with other lists. \n",
    "3. If we want to add a **single element** using `+`, we have to put it into a list with brackets ([])"
   ]
  },
  {
   "cell_type": "code",
   "execution_count": 42,
   "id": "bf5ba029",
   "metadata": {},
   "outputs": [
    {
     "name": "stdout",
     "output_type": "stream",
     "text": [
      "['daisy', 'buttercup', 'snapdragon', 'gardenia', 'lily']\n",
      "['daisy', 'buttercup', 'snapdragon', 'gardenia', 'lily', 'lilac', 'iris']\n",
      "[5, 3, 4, 5, 4, 4]\n"
     ]
    }
   ],
   "source": [
    "orders = ['daisy', 'buttercup', 'snapdragon','gardenia', 'lily']\n",
    "print (orders)\n",
    "new_orders = orders + ['lilac', 'iris']\n",
    "print (new_orders)\n",
    "broken_prices = [5, 3, 4, 5, 4] + [4]\n",
    "print (broken_prices)"
   ]
  },
  {
   "cell_type": "markdown",
   "id": "e1daedee",
   "metadata": {},
   "source": [
    "## Count Function\n",
    "1. How many times a item is present inside the list.\n",
    "2. `.count()` is **case sensitive** i.e. jakes != Jakes.\n",
    "\n",
    "**<span style=\"color:Red\">NOTE:</span>** count does not show error for an item which is not in the list"
   ]
  },
  {
   "cell_type": "code",
   "execution_count": 62,
   "id": "3cb9aaf9",
   "metadata": {},
   "outputs": [
    {
     "name": "stdout",
     "output_type": "stream",
     "text": [
      "['Abhinav', 'Okachi', 'Maki', 'Dan', 'Maki', 'Dan', 'Maki', 'Dan', 'Abhinav', 'Okachi', 'Maki', 'Abhinav', 'Okachi', 'Maki']\n"
     ]
    }
   ],
   "source": [
    "votes = ['Abhinav','Okachi','Maki','Dan','Maki','Dan','Maki','Dan','Abhinav','Okachi','Maki','Abhinav','Okachi','Maki']\n",
    "print(votes)"
   ]
  },
  {
   "cell_type": "code",
   "execution_count": 65,
   "id": "12a50c49",
   "metadata": {},
   "outputs": [
    {
     "name": "stdout",
     "output_type": "stream",
     "text": [
      "3\n",
      "3\n",
      "5\n",
      "0\n"
     ]
    }
   ],
   "source": [
    "print(votes.count('Abhinav'))\n",
    "print(votes.count('Okachi'))\n",
    "print(votes.count('Maki'))\n",
    "print(votes.count('dan'))"
   ]
  },
  {
   "cell_type": "markdown",
   "id": "0d30f1d0",
   "metadata": {},
   "source": [
    "## Sorting of list\n",
    "We can sort a list in place using .sort()"
   ]
  },
  {
   "cell_type": "markdown",
   "id": "688d57ef",
   "metadata": {},
   "source": [
    "### Reverse Sort"
   ]
  },
  {
   "cell_type": "markdown",
   "id": "a0e50818",
   "metadata": {},
   "source": [
    "## Practice Programs"
   ]
  },
  {
   "cell_type": "markdown",
   "id": "3e4aca40",
   "metadata": {},
   "source": [
    "1. Create a function named `double_index` that has two parameters named `lst` and `index`. The function should return a new list where all elements are the same as in lst except for the element at index, which should be double the value of the element at index of lst. If the index is not a valid index, the function should return the original list. Use: print(double_index([3, 8, -10, 12], -4))\n",
    "2. Create a function named `remove_middle` which has three parameters named `lst`, `start`, and `end`. The function should return a list where all elements in lst with an index between start and end (inclusive) have been removed.\n",
    "3. Create a function named `more_than_n` that has three parameters named `lst`, `item`, and `n`. The function should return True if the item appears in the list more than n times. The function should return False otherwise.\n",
    "4. Create a function named `more_frequent_item` that has three parameters named `lst`, item1, and item2.Return either item1 or item2 depending on which item appears more often in `lst`. If the two items appear the same number of times, return item1.\n",
    "5. WAP to count the occurrences of multiple items in a list using a single loop?\n",
    "6. Create a function called `middle_element` that has one parameter named `lst`. If there are an odd number of elements in `lst`, the function should return the middle element. If there are an even number of elements, the function should return the average of the middle two elements.\n",
    "7. Write a function named `append_sum` that has one parameter named `lst`. The function should add the last two elements of `lst` together and append the result to `lst`. It should do this process three times and then return `lst`.\n",
    "8. Write a function named `larger_list` that has two parameters named lst1 and lst2. The function should return the last element of the list that contains more elements. If both lists are the same size, then return the last element of lst1.\n",
    "9. Write a function named `combine_sort` that has two parameters named lst1 and lst2.The function should combine these two lists into one new list and sort the result. Return the new sorted list.\n",
    "10. Create a function called `every_three_nums` that has one parameter named start. The function should return a list of every third number between start and 100 (inclusive). For example, `every_three_nums(91)` should return the list [91, 94, 97, 100]. If the start is greater than 100, the function should return an empty list.\n",
    "11. **Create a function named `divisible_by_ten()` that takes a list of numbers named `nums` as a parameter. Return the count of how many numbers in the list are divisible by 10.**\n",
    "12. Write a function called `delete_starting_evens()` that has a parameter named `lst`. The function should remove elements from the front of `lst` until the front of the list is not even. The function should then return `lst`. For example if *`lst` started as `[4, 8, 10, 11, 12, 15]`, then `delete_starting_evens(lst)` should return `[11, 12, 15]`. Make sure your function works even if every element in the list is even!\n",
    "13. Create a function named `reversed_list()` that takes two lists of the same size as parameters named `lst1`and `lst2`. The function should return `True` if `lst1` is the same as `lst2` reversed. The function should return `False` otherwise. For example, `reversed_list([1, 2, 3], [3, 2, 1])` should return `True`."
   ]
  },
  {
   "cell_type": "markdown",
   "id": "5d18eec7",
   "metadata": {},
   "source": [
    "# Tuples"
   ]
  },
  {
   "cell_type": "markdown",
   "id": "e1c5fb37",
   "metadata": {},
   "source": [
    "## Create Tuple"
   ]
  },
  {
   "cell_type": "markdown",
   "id": "d6315ae3",
   "metadata": {},
   "source": [
    "## Difference between tuple and list"
   ]
  },
  {
   "cell_type": "markdown",
   "id": "70891635",
   "metadata": {},
   "source": [
    "# Loops"
   ]
  },
  {
   "cell_type": "markdown",
   "id": "3fbca89b",
   "metadata": {},
   "source": [
    "# Dictionary"
   ]
  },
  {
   "cell_type": "markdown",
   "id": "47cdd1db",
   "metadata": {},
   "source": [
    "# String"
   ]
  },
  {
   "cell_type": "markdown",
   "id": "23644ebc",
   "metadata": {},
   "source": [
    "# Functions in more detail"
   ]
  },
  {
   "cell_type": "code",
   "execution_count": null,
   "id": "97fa2357",
   "metadata": {},
   "outputs": [],
   "source": []
  },
  {
   "cell_type": "code",
   "execution_count": null,
   "id": "51446358",
   "metadata": {},
   "outputs": [],
   "source": []
  }
 ],
 "metadata": {
  "kernelspec": {
   "display_name": "Python 3 (ipykernel)",
   "language": "python",
   "name": "python3"
  },
  "language_info": {
   "codemirror_mode": {
    "name": "ipython",
    "version": 3
   },
   "file_extension": ".py",
   "mimetype": "text/x-python",
   "name": "python",
   "nbconvert_exporter": "python",
   "pygments_lexer": "ipython3",
   "version": "3.9.7"
  },
  "toc": {
   "base_numbering": 1,
   "nav_menu": {},
   "number_sections": true,
   "sideBar": true,
   "skip_h1_title": false,
   "title_cell": "Table of Contents",
   "title_sidebar": "Contents",
   "toc_cell": false,
   "toc_position": {},
   "toc_section_display": true,
   "toc_window_display": false
  }
 },
 "nbformat": 4,
 "nbformat_minor": 5
}
