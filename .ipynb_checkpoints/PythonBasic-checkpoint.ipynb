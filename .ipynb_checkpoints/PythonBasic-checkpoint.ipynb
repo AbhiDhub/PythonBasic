{
 "cells": [
  {
   "cell_type": "markdown",
   "id": "c698dd61",
   "metadata": {},
   "source": [
    "# Control Flow"
   ]
  },
  {
   "cell_type": "markdown",
   "id": "125bd11a",
   "metadata": {},
   "source": [
    "# Functions"
   ]
  },
  {
   "cell_type": "markdown",
   "id": "18450a62",
   "metadata": {},
   "source": [
    "* SYNTAX:\n",
    "```python3\n",
    "def function_name(parameter_1,...,parameter_n):\n",
    "    evaluate/calculate something \n",
    "    return something\n",
    "```\n",
    "* CALL\n",
    "    ```python3\n",
    "    function_name(argument_1,...,argument_n)\n",
    "    ```"
   ]
  },
  {
   "cell_type": "code",
   "execution_count": 5,
   "id": "504f2882",
   "metadata": {},
   "outputs": [
    {
     "name": "stdout",
     "output_type": "stream",
     "text": [
      "25\n"
     ]
    }
   ],
   "source": [
    "def mul_x_add_y(number,x,y):\n",
    "    print(number*x+y)\n",
    "mul_x_add_y(10,2,5)"
   ]
  },
  {
   "cell_type": "code",
   "execution_count": 6,
   "id": "bdf3079a",
   "metadata": {},
   "outputs": [
    {
     "name": "stdout",
     "output_type": "stream",
     "text": [
      "Welcome to Stu's Staples.\n",
      "Our special is papayas.\n",
      "Have fun shopping!\n"
     ]
    }
   ],
   "source": [
    "def greet_customer(grocery_store, special_item):\n",
    "    print(\"Welcome to \"+ grocery_store + \".\")\n",
    "    print(\"Our special is \" + special_item + \".\")\n",
    "    print(\"Have fun shopping!\")\n",
    "greet_customer(\"Stu's Staples\", \"papayas\") "
   ]
  },
  {
   "cell_type": "markdown",
   "id": "8497c88e",
   "metadata": {},
   "source": [
    "## Default parameter\n",
    "```python3\n",
    "    function_name(def_par1=par_1,par_2,...par_n):\n",
    "        evaluate/calculate something\n",
    "        return something\n",
    "```\n",
    "* **<span style=\"color:Red\">NOTE:</span>** non-default arguments always come before default argument. If not then we will get synatx error when we call the function"
   ]
  },
  {
   "cell_type": "code",
   "execution_count": 9,
   "id": "f0d5ebbc",
   "metadata": {},
   "outputs": [
    {
     "name": "stdout",
     "output_type": "stream",
     "text": [
      "60\n"
     ]
    }
   ],
   "source": [
    "def func(arg2,arg1=10, arg3=30):\n",
    "    return arg1 + arg2 + arg3\n",
    "print(func(20))"
   ]
  },
  {
   "cell_type": "code",
   "execution_count": 7,
   "id": "60fc92aa",
   "metadata": {},
   "outputs": [
    {
     "ename": "SyntaxError",
     "evalue": "non-default argument follows default argument (Temp/ipykernel_7468/4164828168.py, line 1)",
     "output_type": "error",
     "traceback": [
      "\u001b[1;36m  File \u001b[1;32m\"C:\\Users\\abhin\\AppData\\Local\\Temp/ipykernel_7468/4164828168.py\"\u001b[1;36m, line \u001b[1;32m1\u001b[0m\n\u001b[1;33m    def func(arg1=10, arg2, arg3=30):\u001b[0m\n\u001b[1;37m                            ^\u001b[0m\n\u001b[1;31mSyntaxError\u001b[0m\u001b[1;31m:\u001b[0m non-default argument follows default argument\n"
     ]
    }
   ],
   "source": [
    "def func(arg1=10, arg2, arg3=30):\n",
    "    return arg1 + arg2 + arg3\n",
    "#print(func(20))"
   ]
  },
  {
   "cell_type": "markdown",
   "id": "82c1f271",
   "metadata": {},
   "source": [
    "##  Does the return always have to be the last line of code in the function?"
   ]
  },
  {
   "cell_type": "markdown",
   "id": "330eb0e7",
   "metadata": {},
   "source": [
    "When a return statement is run inside\n",
    "of a function, the function will immediately terminate\n",
    "and return that value, and none of the remaining code\n",
    "lines in the function will run. \n",
    "\n",
    "Because of this,\n",
    "functions usually have a return statement at the very\n",
    "end, so that all the other lines of code in the\n",
    "function will complete first before the function\n",
    "terminates and returns a value"
   ]
  },
  {
   "cell_type": "code",
   "execution_count": 12,
   "id": "d044ecaa",
   "metadata": {},
   "outputs": [
    {
     "data": {
      "text/plain": [
       "20"
      ]
     },
     "execution_count": 12,
     "metadata": {},
     "output_type": "execute_result"
    }
   ],
   "source": [
    "def example():\n",
    "    total = 20\n",
    "    return total\n",
    "    # These lines will not run\n",
    "    # because they follow a return.\n",
    "    total += 10\n",
    "    print(total)\n",
    "    return total\n",
    "example()"
   ]
  },
  {
   "cell_type": "markdown",
   "id": "cb38f4a6",
   "metadata": {},
   "source": [
    "## Multiple Return in a function\n",
    "* return data type: tuple"
   ]
  },
  {
   "cell_type": "code",
   "execution_count": 15,
   "id": "3f637d42",
   "metadata": {},
   "outputs": [
    {
     "name": "stdout",
     "output_type": "stream",
     "text": [
      "(16, 25)\n",
      "<class 'tuple'>\n"
     ]
    }
   ],
   "source": [
    "def square_point(x_value, y_value):\n",
    "    x_2 = x_value * x_value\n",
    "    y_2 = y_value * y_value\n",
    "    return x_2, y_2\n",
    "print(square_point(4,5))\n",
    "print(type(square_point(4,5)))"
   ]
  },
  {
   "cell_type": "markdown",
   "id": "8e899748",
   "metadata": {},
   "source": [
    "### Unpacking"
   ]
  },
  {
   "cell_type": "code",
   "execution_count": 16,
   "id": "30e92030",
   "metadata": {},
   "outputs": [
    {
     "name": "stdout",
     "output_type": "stream",
     "text": [
      "1\n",
      "9\n"
     ]
    }
   ],
   "source": [
    "x_squared, y_squared = square_point(1, 3)\n",
    "print(x_squared)\n",
    "print(y_squared)"
   ]
  },
  {
   "cell_type": "markdown",
   "id": "80f5b26f",
   "metadata": {},
   "source": [
    "# List\n",
    "A list is an ordered set of objects in Python."
   ]
  },
  {
   "cell_type": "markdown",
   "id": "a5495e22",
   "metadata": {},
   "source": [
    "## Create List"
   ]
  },
  {
   "cell_type": "code",
   "execution_count": 38,
   "id": "cabdeb16",
   "metadata": {},
   "outputs": [
    {
     "data": {
      "text/plain": [
       "[161, 170, 167, 164, 165]"
      ]
     },
     "execution_count": 38,
     "metadata": {},
     "output_type": "execute_result"
    }
   ],
   "source": [
    "heights_cm=[161,170,167,164,165]\n",
    "heights_cm"
   ]
  },
  {
   "cell_type": "markdown",
   "id": "ff6c9f7e",
   "metadata": {},
   "source": [
    "### List Attributes"
   ]
  },
  {
   "cell_type": "code",
   "execution_count": 39,
   "id": "9b08e138",
   "metadata": {},
   "outputs": [
    {
     "name": "stdout",
     "output_type": "stream",
     "text": [
      "<class 'list'>\n",
      "Number of elements in the list  5\n",
      "Maximum element in the list  170\n",
      "Minimum element in the list  161\n",
      "Sum of Elements 827\n"
     ]
    }
   ],
   "source": [
    "print(type(heights_cm))\n",
    "print('Number of elements in the list ', len(heights_cm))\n",
    "print('Maximum element in the list ', max(heights_cm))\n",
    "print('Minimum element in the list ', min(heights_cm))\n",
    "print('Sum of Elements', sum(heights_cm))"
   ]
  },
  {
   "cell_type": "markdown",
   "id": "583bfbd0",
   "metadata": {},
   "source": [
    "### Range in python\n",
    "1. Set of numbers\n",
    "2. The function range takes a single input, and generates numbers starting at `0` and ending at the number before the input. i.e, `n-1`\n",
    "3. Very important for loops"
   ]
  },
  {
   "cell_type": "code",
   "execution_count": 40,
   "id": "d2dac942",
   "metadata": {},
   "outputs": [
    {
     "data": {
      "text/plain": [
       "range(0, 10)"
      ]
     },
     "execution_count": 40,
     "metadata": {},
     "output_type": "execute_result"
    }
   ],
   "source": [
    "range(10)"
   ]
  },
  {
   "cell_type": "code",
   "execution_count": 41,
   "id": "aac5397c",
   "metadata": {},
   "outputs": [
    {
     "name": "stdout",
     "output_type": "stream",
     "text": [
      "<class 'range'>\n"
     ]
    }
   ],
   "source": [
    "print(type(range(10)))"
   ]
  },
  {
   "cell_type": "markdown",
   "id": "3e95638c",
   "metadata": {},
   "source": [
    "### Make list using range"
   ]
  },
  {
   "cell_type": "code",
   "execution_count": 42,
   "id": "eae356ad",
   "metadata": {},
   "outputs": [
    {
     "data": {
      "text/plain": [
       "[0, 1, 2, 3, 4, 5, 6, 7, 8, 9]"
      ]
     },
     "execution_count": 42,
     "metadata": {},
     "output_type": "execute_result"
    }
   ],
   "source": [
    "list(range(10))"
   ]
  },
  {
   "cell_type": "code",
   "execution_count": 43,
   "id": "8464095c",
   "metadata": {},
   "outputs": [
    {
     "data": {
      "text/plain": [
       "list"
      ]
     },
     "execution_count": 43,
     "metadata": {},
     "output_type": "execute_result"
    }
   ],
   "source": [
    "type(list(range(10)))"
   ]
  },
  {
   "cell_type": "code",
   "execution_count": 44,
   "id": "1f85f373",
   "metadata": {},
   "outputs": [
    {
     "data": {
      "text/plain": [
       "[2, 3, 4, 5, 6, 7, 8, 9]"
      ]
     },
     "execution_count": 44,
     "metadata": {},
     "output_type": "execute_result"
    }
   ],
   "source": [
    "list(range(2,10))"
   ]
  },
  {
   "cell_type": "code",
   "execution_count": 45,
   "id": "ba786145",
   "metadata": {},
   "outputs": [
    {
     "data": {
      "text/plain": [
       "[2, 4, 6, 8]"
      ]
     },
     "execution_count": 45,
     "metadata": {},
     "output_type": "execute_result"
    }
   ],
   "source": [
    "list(range(2,10,2))"
   ]
  },
  {
   "cell_type": "markdown",
   "id": "aedc44b2",
   "metadata": {},
   "source": [
    "## Slicing and Selecting"
   ]
  },
  {
   "cell_type": "markdown",
   "id": "71ed3846",
   "metadata": {},
   "source": [
    "### Select item for given index"
   ]
  },
  {
   "cell_type": "code",
   "execution_count": 46,
   "id": "a33acf65",
   "metadata": {},
   "outputs": [
    {
     "data": {
      "text/plain": [
       "[161, 170, 167, 164, 165]"
      ]
     },
     "execution_count": 46,
     "metadata": {},
     "output_type": "execute_result"
    }
   ],
   "source": [
    "heights_cm"
   ]
  },
  {
   "cell_type": "code",
   "execution_count": 47,
   "id": "f91fdd34",
   "metadata": {},
   "outputs": [
    {
     "name": "stdout",
     "output_type": "stream",
     "text": [
      "161\n"
     ]
    }
   ],
   "source": [
    "first_object=heights_cm[0]\n",
    "print(first_object)"
   ]
  },
  {
   "cell_type": "code",
   "execution_count": 48,
   "id": "f85a4df9",
   "metadata": {},
   "outputs": [
    {
     "name": "stdout",
     "output_type": "stream",
     "text": [
      "165\n",
      "165\n"
     ]
    }
   ],
   "source": [
    "last_object=heights_cm[-1]\n",
    "print(last_object)\n",
    "last_object2=heights_cm[len(heights_cm)-1]\n",
    "print(last_object)"
   ]
  },
  {
   "cell_type": "code",
   "execution_count": 49,
   "id": "7112f9d7",
   "metadata": {},
   "outputs": [
    {
     "data": {
      "text/plain": [
       "5"
      ]
     },
     "execution_count": 49,
     "metadata": {},
     "output_type": "execute_result"
    }
   ],
   "source": [
    "len(heights_cm)"
   ]
  },
  {
   "cell_type": "markdown",
   "id": "eff5511a",
   "metadata": {},
   "source": [
    "### Slicing"
   ]
  },
  {
   "cell_type": "code",
   "execution_count": 50,
   "id": "1f9c5ff8",
   "metadata": {},
   "outputs": [
    {
     "data": {
      "text/plain": [
       "[161, 167, 165]"
      ]
     },
     "execution_count": 50,
     "metadata": {},
     "output_type": "execute_result"
    }
   ],
   "source": [
    "heights_cm[::2]"
   ]
  },
  {
   "cell_type": "code",
   "execution_count": 51,
   "id": "5e65f9cf",
   "metadata": {},
   "outputs": [
    {
     "data": {
      "text/plain": [
       "[167, 164]"
      ]
     },
     "execution_count": 51,
     "metadata": {},
     "output_type": "execute_result"
    }
   ],
   "source": [
    "heights_cm[2:4]"
   ]
  },
  {
   "cell_type": "code",
   "execution_count": 52,
   "id": "a737c4e0",
   "metadata": {},
   "outputs": [
    {
     "data": {
      "text/plain": [
       "165"
      ]
     },
     "execution_count": 52,
     "metadata": {},
     "output_type": "execute_result"
    }
   ],
   "source": [
    "heights_cm[4]"
   ]
  },
  {
   "cell_type": "markdown",
   "id": "c3483db1",
   "metadata": {},
   "source": [
    "### Get Index of an item\n",
    "```python3\n",
    "list.index(item)\n",
    "```"
   ]
  },
  {
   "cell_type": "code",
   "execution_count": 53,
   "id": "24f074f9",
   "metadata": {},
   "outputs": [
    {
     "data": {
      "text/plain": [
       "4"
      ]
     },
     "execution_count": 53,
     "metadata": {},
     "output_type": "execute_result"
    }
   ],
   "source": [
    "heights_cm.index(165)"
   ]
  },
  {
   "cell_type": "markdown",
   "id": "e7b4e93a",
   "metadata": {},
   "source": [
    "### Can list elements be accessed in any order?\n",
    "1. A list whose items are randomly accessed using the `randint()` function. \n",
    "2. `randint()` returns a random integer in range [start, end] including the end points."
   ]
  },
  {
   "cell_type": "code",
   "execution_count": 54,
   "id": "74c801a4",
   "metadata": {},
   "outputs": [],
   "source": [
    "elements = ['Hydrogen', 'Helium', 'Carbon', 'Oxygen','Nitrogen']"
   ]
  },
  {
   "cell_type": "code",
   "execution_count": 55,
   "id": "f2b415c3",
   "metadata": {},
   "outputs": [
    {
     "name": "stdout",
     "output_type": "stream",
     "text": [
      "Element selected randomly is : Nitrogen ; whose index is:  4\n",
      "Element selected randomly is : Nitrogen ; whose index is:  4\n"
     ]
    }
   ],
   "source": [
    "from random import randint\n",
    "index = randint(0, len(elements) - 1)\n",
    "print(\"Element selected randomly is :\", elements[index],\"; whose index is: \",index)\n",
    "index = randint(0, len(elements) - 1)\n",
    "print(\"Element selected randomly is :\", elements[index],\"; whose index is: \",index)"
   ]
  },
  {
   "cell_type": "code",
   "execution_count": 56,
   "id": "2c5d11f9",
   "metadata": {},
   "outputs": [
    {
     "name": "stdout",
     "output_type": "stream",
     "text": [
      "for Count:  0 , The element selected randomly is:  Nitrogen ; whose index is:  4\n",
      "for Count:  1 , The element selected randomly is:  Carbon ; whose index is:  2\n",
      "for Count:  2 , The element selected randomly is:  Nitrogen ; whose index is:  4\n",
      "for Count:  3 , The element selected randomly is:  Nitrogen ; whose index is:  4\n",
      "for Count:  4 , The element selected randomly is:  Carbon ; whose index is:  2\n"
     ]
    }
   ],
   "source": [
    "for count in range(5):\n",
    "    index = randint(0, len(elements) - 1)\n",
    "    print(\"for Count: \",count,\", The element selected randomly is: \", elements[index],\"; whose index is: \",index)"
   ]
  },
  {
   "cell_type": "markdown",
   "id": "0ec693c0",
   "metadata": {},
   "source": [
    "## Multiple DataTypes\n",
    "\n",
    "A list can contain **multiple datatypes**."
   ]
  },
  {
   "cell_type": "code",
   "execution_count": 57,
   "id": "e4c47c6c",
   "metadata": {},
   "outputs": [
    {
     "name": "stdout",
     "output_type": "stream",
     "text": [
      "[1, 2, 3, 4, '1', 'one', 'two', '2']\n",
      "<class 'list'>\n",
      "<class 'str'>\n",
      "<class 'int'>\n"
     ]
    }
   ],
   "source": [
    "ints_strings=[1,2,3,4,'1','one','two','2']\n",
    "print(ints_strings)\n",
    "print(type(ints_strings))\n",
    "print(type(ints_strings[ints_strings.index('one')]))\n",
    "print(type(ints_strings[ints_strings.index(1)]))"
   ]
  },
  {
   "cell_type": "markdown",
   "id": "9e985779",
   "metadata": {},
   "source": [
    "## List within List\n",
    "\n",
    "Several lists into one list\n",
    "\n",
    "Below is a list of list of person names and their height"
   ]
  },
  {
   "cell_type": "code",
   "execution_count": 58,
   "id": "074f81ad",
   "metadata": {},
   "outputs": [
    {
     "name": "stdout",
     "output_type": "stream",
     "text": [
      "[['Dengri', 174], ['Obama', 178], ['Biden', 181], ['Modi', 169]]\n",
      "<class 'list'>\n"
     ]
    }
   ],
   "source": [
    "names_heights=[['Dengri',174],['Obama',178],['Biden',181],['Modi',169]]\n",
    "print(names_heights)\n",
    "print(type(names_heights))"
   ]
  },
  {
   "cell_type": "markdown",
   "id": "0de5f0ad",
   "metadata": {},
   "source": [
    "### Slicing and selection"
   ]
  },
  {
   "cell_type": "code",
   "execution_count": 59,
   "id": "b5e22408",
   "metadata": {},
   "outputs": [
    {
     "data": {
      "text/plain": [
       "['Dengri', 174]"
      ]
     },
     "execution_count": 59,
     "metadata": {},
     "output_type": "execute_result"
    }
   ],
   "source": [
    "names_heights[0]"
   ]
  },
  {
   "cell_type": "code",
   "execution_count": 60,
   "id": "adae1026",
   "metadata": {},
   "outputs": [
    {
     "data": {
      "text/plain": [
       "'Dengri'"
      ]
     },
     "execution_count": 60,
     "metadata": {},
     "output_type": "execute_result"
    }
   ],
   "source": [
    "names_heights[0][0]"
   ]
  },
  {
   "cell_type": "code",
   "execution_count": 61,
   "id": "571e272e",
   "metadata": {},
   "outputs": [
    {
     "data": {
      "text/plain": [
       "[['Dengri', 174], ['Biden', 181]]"
      ]
     },
     "execution_count": 61,
     "metadata": {},
     "output_type": "execute_result"
    }
   ],
   "source": [
    "names_heights[::2]"
   ]
  },
  {
   "cell_type": "code",
   "execution_count": 62,
   "id": "80105ceb",
   "metadata": {},
   "outputs": [
    {
     "data": {
      "text/plain": [
       "[['Dengri', 174], ['Obama', 178]]"
      ]
     },
     "execution_count": 62,
     "metadata": {},
     "output_type": "execute_result"
    }
   ],
   "source": [
    "names_heights[0:2]"
   ]
  },
  {
   "cell_type": "markdown",
   "id": "e2c106ca",
   "metadata": {},
   "source": [
    "### How to create list within list"
   ]
  },
  {
   "cell_type": "markdown",
   "id": "60bc3b14",
   "metadata": {},
   "source": [
    "#### Zip Command\n",
    "1. `zip` takes **two (or more) lists as inputs** and **returns an object that contains a list of pairs**. Each pair contains one element from each of the inputs.To see the nested lists, **you should convert the zip object to a list** first.\n",
    "\n",
    "**<span style=\"color:Red\">NOTE:</span>** If both the lists don’t have the same number of elements even then the zip command will work. In that case it will return a list of pairs based on the smallest length of the list."
   ]
  },
  {
   "cell_type": "code",
   "execution_count": 63,
   "id": "429d8818",
   "metadata": {},
   "outputs": [
    {
     "name": "stdout",
     "output_type": "stream",
     "text": [
      "['Jenny', 'Alexus', 'Sam', 'Grace']\n",
      "['Elphonse', 'Dr. Doggy DDS', 'Carter', 'Ralph']\n"
     ]
    }
   ],
   "source": [
    "names = ['Jenny', 'Alexus', 'Sam', 'Grace']\n",
    "dogs_names = ['Elphonse', 'Dr. Doggy DDS', 'Carter','Ralph']\n",
    "print(names)\n",
    "print(dogs_names)"
   ]
  },
  {
   "cell_type": "code",
   "execution_count": 64,
   "id": "53c7ba59",
   "metadata": {},
   "outputs": [
    {
     "name": "stdout",
     "output_type": "stream",
     "text": [
      "<class 'zip'>\n"
     ]
    }
   ],
   "source": [
    "names_dogs_names=zip(names,dogs_names)\n",
    "print(type(names_dogs_names))"
   ]
  },
  {
   "cell_type": "code",
   "execution_count": 65,
   "id": "e1033e96",
   "metadata": {},
   "outputs": [
    {
     "name": "stdout",
     "output_type": "stream",
     "text": [
      "[('Jenny', 'Elphonse'), ('Alexus', 'Dr. Doggy DDS'), ('Sam', 'Carter'), ('Grace', 'Ralph')]\n",
      "<class 'list'>\n"
     ]
    }
   ],
   "source": [
    "names_dogs_names_list=list(names_dogs_names)\n",
    "print(names_dogs_names_list)\n",
    "print(type(names_dogs_names_list))"
   ]
  },
  {
   "cell_type": "code",
   "execution_count": 66,
   "id": "fbd5c874",
   "metadata": {},
   "outputs": [
    {
     "name": "stdout",
     "output_type": "stream",
     "text": [
      "<class 'tuple'>\n"
     ]
    }
   ],
   "source": [
    "print(type(names_dogs_names_list[0]))"
   ]
  },
  {
   "cell_type": "code",
   "execution_count": 67,
   "id": "85511085",
   "metadata": {},
   "outputs": [
    {
     "name": "stdout",
     "output_type": "stream",
     "text": [
      "3\n",
      "4\n",
      "[('Jenny', 'Elphonse'), ('Alexus', 'Dr. Doggy DDS'), ('Sam', 'Carter')]\n",
      "3\n"
     ]
    }
   ],
   "source": [
    "names = ['Jenny', 'Alexus', 'Sam']\n",
    "dogs_names = ['Elphonse', 'Dr. Doggy DDS', 'Carter','Ralph']\n",
    "print(len(names))\n",
    "print(len(dogs_names))\n",
    "names_dogs_names_list=list(zip(names,dogs_names))\n",
    "print(names_dogs_names_list)\n",
    "print(len(names_dogs_names_list))"
   ]
  },
  {
   "cell_type": "markdown",
   "id": "9922bcb5",
   "metadata": {},
   "source": [
    "## Adding element to list"
   ]
  },
  {
   "cell_type": "markdown",
   "id": "88501aec",
   "metadata": {},
   "source": [
    "### Append\n",
    "We can add a **single element** to a list using `.append()`. Our new element is added to the **end of the list**."
   ]
  },
  {
   "cell_type": "code",
   "execution_count": 68,
   "id": "60934d88",
   "metadata": {},
   "outputs": [
    {
     "name": "stdout",
     "output_type": "stream",
     "text": [
      "['daisies', 'periwinkle']\n",
      "['daisies', 'periwinkle', 'tulips']\n",
      "['daisies', 'periwinkle', 'tulips', 'roses']\n"
     ]
    }
   ],
   "source": [
    "orders = ['daisies', 'periwinkle']\n",
    "print(orders)\n",
    "orders.append('tulips')\n",
    "print(orders)\n",
    "orders.append('roses') \n",
    "print(orders)"
   ]
  },
  {
   "cell_type": "markdown",
   "id": "d7d317dc",
   "metadata": {},
   "source": [
    "### Adding two list\n",
    "1. When we want to **add multiple items to a list**, we can use `+` to combine two lists. \n",
    "2. We can only use `+` with other lists. \n",
    "3. If we want to add a **single element** using `+`, we have to put it into a list with brackets ([])"
   ]
  },
  {
   "cell_type": "code",
   "execution_count": 2,
   "id": "bf5ba029",
   "metadata": {},
   "outputs": [
    {
     "name": "stdout",
     "output_type": "stream",
     "text": [
      "['daisy', 'buttercup', 'snapdragon', 'gardenia', 'lily']\n",
      "['daisy', 'buttercup', 'snapdragon', 'gardenia', 'lily', 'lilac', 'iris']\n",
      "[5, 3, 4, 5, 4, 4]\n"
     ]
    }
   ],
   "source": [
    "orders = ['daisy', 'buttercup', 'snapdragon','gardenia', 'lily']\n",
    "print (orders)\n",
    "new_orders = orders + ['lilac', 'iris']\n",
    "print (new_orders)\n",
    "broken_prices = [5, 3, 4, 5, 4] + [4]\n",
    "print (broken_prices)"
   ]
  },
  {
   "cell_type": "markdown",
   "id": "39d4401a",
   "metadata": {},
   "source": [
    "### Insert\n",
    "Adding element at desired position\n",
    "```python3\n",
    "list.insert(index,value)\n",
    "```"
   ]
  },
  {
   "cell_type": "code",
   "execution_count": 3,
   "id": "12aa3dc3",
   "metadata": {},
   "outputs": [
    {
     "data": {
      "text/plain": [
       "['rose', 'daisy', 'buttercup', 'snapdragon', 'gardenia', 'lily']"
      ]
     },
     "execution_count": 3,
     "metadata": {},
     "output_type": "execute_result"
    }
   ],
   "source": [
    "orders.insert(0,'rose')\n",
    "orders"
   ]
  },
  {
   "cell_type": "markdown",
   "id": "e1daedee",
   "metadata": {},
   "source": [
    "## Count Function\n",
    "1. How many times a item is present inside the list.\n",
    "2. `.count()` is **case sensitive** i.e. jakes != Jakes.\n",
    "\n",
    "**<span style=\"color:Red\">NOTE:</span>** count does not show error for an item which is not in the list"
   ]
  },
  {
   "cell_type": "code",
   "execution_count": 70,
   "id": "3cb9aaf9",
   "metadata": {},
   "outputs": [
    {
     "name": "stdout",
     "output_type": "stream",
     "text": [
      "['Abhinav', 'Okachi', 'Maki', 'Dan', 'Maki', 'Dan', 'Maki', 'Dan', 'Abhinav', 'Okachi', 'Maki', 'Abhinav', 'Okachi', 'Maki']\n"
     ]
    }
   ],
   "source": [
    "votes = ['Abhinav','Okachi','Maki','Dan','Maki','Dan','Maki','Dan','Abhinav','Okachi','Maki','Abhinav','Okachi','Maki']\n",
    "print(votes)"
   ]
  },
  {
   "cell_type": "code",
   "execution_count": 71,
   "id": "12a50c49",
   "metadata": {},
   "outputs": [
    {
     "name": "stdout",
     "output_type": "stream",
     "text": [
      "3\n",
      "3\n",
      "5\n",
      "0\n"
     ]
    }
   ],
   "source": [
    "print(votes.count('Abhinav'))\n",
    "print(votes.count('Okachi'))\n",
    "print(votes.count('Maki'))\n",
    "print(votes.count('dan'))"
   ]
  },
  {
   "cell_type": "markdown",
   "id": "0d30f1d0",
   "metadata": {},
   "source": [
    "## Sorting of list\n",
    "We can sort a list in place using `.sort()`\n",
    "1. `.sort()` returns `none` $\\rightarrow$ it changes the original list\n",
    "\n",
    "**<span style=\"color:Red\">NOTE:</span>** `.sort()` complex output is list is combination of Intergers and strings. "
   ]
  },
  {
   "cell_type": "code",
   "execution_count": 72,
   "id": "18ef5c7c",
   "metadata": {},
   "outputs": [
    {
     "data": {
      "text/plain": [
       "['London', 'Paris', 'Rome', 'Los Angeles', 'NewYork']"
      ]
     },
     "execution_count": 72,
     "metadata": {},
     "output_type": "execute_result"
    }
   ],
   "source": [
    "cities = ['London', 'Paris', 'Rome', 'Los Angeles', 'NewYork']\n",
    "cities"
   ]
  },
  {
   "cell_type": "code",
   "execution_count": 73,
   "id": "88411bc8",
   "metadata": {},
   "outputs": [],
   "source": [
    "cities.sort()"
   ]
  },
  {
   "cell_type": "code",
   "execution_count": 74,
   "id": "cb4603fc",
   "metadata": {},
   "outputs": [],
   "source": [
    "cities_sort=cities.sort()\n",
    "cities_sort"
   ]
  },
  {
   "cell_type": "code",
   "execution_count": 75,
   "id": "fb0e04fc",
   "metadata": {},
   "outputs": [
    {
     "data": {
      "text/plain": [
       "['London', 'Los Angeles', 'NewYork', 'Paris', 'Rome']"
      ]
     },
     "execution_count": 75,
     "metadata": {},
     "output_type": "execute_result"
    }
   ],
   "source": [
    "cities"
   ]
  },
  {
   "cell_type": "code",
   "execution_count": 76,
   "id": "07c05f6c",
   "metadata": {},
   "outputs": [
    {
     "data": {
      "text/plain": [
       "['221 B Baker St.',\n",
       " '42 Wallaby Way',\n",
       " '12 Grimmauld Place',\n",
       " '742 Evergreen Terrace',\n",
       " '1600 Pennsylvania Ave',\n",
       " '10 Downing St.']"
      ]
     },
     "execution_count": 76,
     "metadata": {},
     "output_type": "execute_result"
    }
   ],
   "source": [
    "addresses = ['221 B Baker St.', '42 Wallaby Way', '12 Grimmauld Place', '742 Evergreen Terrace', '1600 Pennsylvania Ave', \n",
    "             '10 Downing St.']\n",
    "addresses"
   ]
  },
  {
   "cell_type": "code",
   "execution_count": 77,
   "id": "cc1d90a4",
   "metadata": {},
   "outputs": [
    {
     "data": {
      "text/plain": [
       "['10 Downing St.',\n",
       " '12 Grimmauld Place',\n",
       " '1600 Pennsylvania Ave',\n",
       " '221 B Baker St.',\n",
       " '42 Wallaby Way',\n",
       " '742 Evergreen Terrace']"
      ]
     },
     "execution_count": 77,
     "metadata": {},
     "output_type": "execute_result"
    }
   ],
   "source": [
    "addresses.sort()\n",
    "addresses"
   ]
  },
  {
   "cell_type": "markdown",
   "id": "6c43592f",
   "metadata": {},
   "source": [
    "`.sort()` sorts the list items using the first character of each item in the list"
   ]
  },
  {
   "cell_type": "markdown",
   "id": "688d57ef",
   "metadata": {},
   "source": [
    "### Reverse Sort"
   ]
  },
  {
   "cell_type": "code",
   "execution_count": 78,
   "id": "da5771c4",
   "metadata": {},
   "outputs": [
    {
     "data": {
      "text/plain": [
       "['Rome', 'Paris', 'NewYork', 'Los Angeles', 'London']"
      ]
     },
     "execution_count": 78,
     "metadata": {},
     "output_type": "execute_result"
    }
   ],
   "source": [
    "cities.sort(reverse=True)\n",
    "cities"
   ]
  },
  {
   "cell_type": "markdown",
   "id": "1eaaea84",
   "metadata": {},
   "source": [
    "### Sorting a list based on the sublist"
   ]
  },
  {
   "cell_type": "code",
   "execution_count": 79,
   "id": "e1f0b11f",
   "metadata": {},
   "outputs": [],
   "source": [
    "names_and_ages=[[\"Sam\" , 23], [\"Vik\", 30], [\"Phil\", 26],[\"John\", 18]]"
   ]
  },
  {
   "cell_type": "code",
   "execution_count": 80,
   "id": "15d4c520",
   "metadata": {},
   "outputs": [
    {
     "data": {
      "text/plain": [
       "[['John', 18], ['Phil', 26], ['Sam', 23], ['Vik', 30]]"
      ]
     },
     "execution_count": 80,
     "metadata": {},
     "output_type": "execute_result"
    }
   ],
   "source": [
    "names_and_ages.sort()\n",
    "names_and_ages"
   ]
  },
  {
   "cell_type": "markdown",
   "id": "1478e260",
   "metadata": {},
   "source": [
    "The `.sort()` function sorts on the `list[:][0]`, i.e., first item in each sublist"
   ]
  },
  {
   "cell_type": "markdown",
   "id": "47c4f7c2",
   "metadata": {},
   "source": [
    "**How can we sort `names_and_ages` list on the basis of age?**"
   ]
  },
  {
   "cell_type": "markdown",
   "id": "d236ac72",
   "metadata": {},
   "source": [
    "**<span style=\"color:Red\"> NOTE: </span>** `key` parameter"
   ]
  },
  {
   "cell_type": "code",
   "execution_count": 81,
   "id": "62b6d323",
   "metadata": {},
   "outputs": [],
   "source": [
    "def function_sort_index(item):\n",
    "    return item[1]\n",
    "names_and_ages.sort(key=function_sort_index)"
   ]
  },
  {
   "cell_type": "code",
   "execution_count": 82,
   "id": "280d1ec1",
   "metadata": {},
   "outputs": [
    {
     "data": {
      "text/plain": [
       "[['John', 18], ['Sam', 23], ['Phil', 26], ['Vik', 30]]"
      ]
     },
     "execution_count": 82,
     "metadata": {},
     "output_type": "execute_result"
    }
   ],
   "source": [
    "names_and_ages"
   ]
  },
  {
   "cell_type": "markdown",
   "id": "5dc69ad4",
   "metadata": {},
   "source": [
    "### Use sorted\n",
    "Sorted is different from `.sort()` in several ways:\n",
    "1. Syntax is different. It comes before a list, instead of after\n",
    "```python3\n",
    ".Syntax: sorted(list_name)\n",
    "```\n",
    "2. It generates a **new list**.\n",
    "\n",
    "<span style=\"color:Red\"> NOTE:</span> using sorted, the original list does not get sorted"
   ]
  },
  {
   "cell_type": "code",
   "execution_count": 83,
   "id": "12cc8cd9",
   "metadata": {},
   "outputs": [],
   "source": [
    "cities = ['London', 'Paris', 'Rome', 'Los Angeles', 'NewYork']\n",
    "cities_sorted=sorted(cities)\n",
    "cities_sorted_reverse=sorted(cities,reverse=True)"
   ]
  },
  {
   "cell_type": "code",
   "execution_count": 84,
   "id": "88f6c1fb",
   "metadata": {},
   "outputs": [
    {
     "data": {
      "text/plain": [
       "['London', 'Paris', 'Rome', 'Los Angeles', 'NewYork']"
      ]
     },
     "execution_count": 84,
     "metadata": {},
     "output_type": "execute_result"
    }
   ],
   "source": [
    "cities"
   ]
  },
  {
   "cell_type": "code",
   "execution_count": 85,
   "id": "ccbebf94",
   "metadata": {},
   "outputs": [
    {
     "data": {
      "text/plain": [
       "['London', 'Los Angeles', 'NewYork', 'Paris', 'Rome']"
      ]
     },
     "execution_count": 85,
     "metadata": {},
     "output_type": "execute_result"
    }
   ],
   "source": [
    "cities_sorted"
   ]
  },
  {
   "cell_type": "code",
   "execution_count": 86,
   "id": "3ba41753",
   "metadata": {},
   "outputs": [
    {
     "data": {
      "text/plain": [
       "['Rome', 'Paris', 'NewYork', 'Los Angeles', 'London']"
      ]
     },
     "execution_count": 86,
     "metadata": {},
     "output_type": "execute_result"
    }
   ],
   "source": [
    "cities_sorted_reverse"
   ]
  },
  {
   "cell_type": "code",
   "execution_count": 87,
   "id": "e7406426",
   "metadata": {},
   "outputs": [],
   "source": [
    "names_and_ages=[[\"Sam\" , 23], [\"Vik\", 30], [\"Phil\", 26],[\"John\", 18]]\n",
    "names_and_ages_sorted=sorted(names_and_ages)\n",
    "names_and_ages_sorted_agewise=sorted(names_and_ages,key=function_sort_index)"
   ]
  },
  {
   "cell_type": "code",
   "execution_count": 88,
   "id": "bb153255",
   "metadata": {},
   "outputs": [
    {
     "data": {
      "text/plain": [
       "[['Sam', 23], ['Vik', 30], ['Phil', 26], ['John', 18]]"
      ]
     },
     "execution_count": 88,
     "metadata": {},
     "output_type": "execute_result"
    }
   ],
   "source": [
    "names_and_ages"
   ]
  },
  {
   "cell_type": "code",
   "execution_count": 89,
   "id": "ea87dc71",
   "metadata": {},
   "outputs": [
    {
     "data": {
      "text/plain": [
       "[['John', 18], ['Phil', 26], ['Sam', 23], ['Vik', 30]]"
      ]
     },
     "execution_count": 89,
     "metadata": {},
     "output_type": "execute_result"
    }
   ],
   "source": [
    "names_and_ages_sorted"
   ]
  },
  {
   "cell_type": "code",
   "execution_count": 90,
   "id": "f89414f5",
   "metadata": {},
   "outputs": [
    {
     "data": {
      "text/plain": [
       "[['John', 18], ['Sam', 23], ['Phil', 26], ['Vik', 30]]"
      ]
     },
     "execution_count": 90,
     "metadata": {},
     "output_type": "execute_result"
    }
   ],
   "source": [
    "names_and_ages_sorted_agewise"
   ]
  },
  {
   "cell_type": "markdown",
   "id": "4c2b7a2d",
   "metadata": {},
   "source": [
    "## Remove element from the list"
   ]
  },
  {
   "cell_type": "markdown",
   "id": "ce63122c",
   "metadata": {},
   "source": [
    "### Remove by index"
   ]
  },
  {
   "cell_type": "code",
   "execution_count": 101,
   "id": "6c971f94",
   "metadata": {},
   "outputs": [
    {
     "data": {
      "text/plain": [
       "['London', 'Paris', 'Rome', 'Los Angeles']"
      ]
     },
     "execution_count": 101,
     "metadata": {},
     "output_type": "execute_result"
    }
   ],
   "source": [
    "cities"
   ]
  },
  {
   "cell_type": "code",
   "execution_count": 102,
   "id": "4732e8c9",
   "metadata": {},
   "outputs": [],
   "source": [
    "del cities[-1]"
   ]
  },
  {
   "cell_type": "code",
   "execution_count": 103,
   "id": "4f156318",
   "metadata": {},
   "outputs": [
    {
     "data": {
      "text/plain": [
       "['London', 'Paris', 'Rome']"
      ]
     },
     "execution_count": 103,
     "metadata": {},
     "output_type": "execute_result"
    }
   ],
   "source": [
    "cities"
   ]
  },
  {
   "cell_type": "markdown",
   "id": "4a0af179",
   "metadata": {},
   "source": [
    "### Remove by item value"
   ]
  },
  {
   "cell_type": "code",
   "execution_count": 104,
   "id": "20cf323a",
   "metadata": {},
   "outputs": [],
   "source": [
    "cities.remove('Paris')"
   ]
  },
  {
   "cell_type": "code",
   "execution_count": 105,
   "id": "08a7cd78",
   "metadata": {},
   "outputs": [
    {
     "data": {
      "text/plain": [
       "['London', 'Rome']"
      ]
     },
     "execution_count": 105,
     "metadata": {},
     "output_type": "execute_result"
    }
   ],
   "source": [
    "cities"
   ]
  },
  {
   "cell_type": "markdown",
   "id": "a0e50818",
   "metadata": {},
   "source": [
    "## Practice Programs"
   ]
  },
  {
   "cell_type": "markdown",
   "id": "3e4aca40",
   "metadata": {},
   "source": [
    "1. Create a function named `double_index` that has two parameters named `lst` and `index`. The function should return a new list where all elements are the same as in lst except for the element at index, which should be double the value of the element at index of lst. If the index is not a valid index, the function should return the original list. Use: print(double_index([3, 8, -10, 12], -4))\n",
    "2. Create a function named `remove_middle` which has three parameters named `lst`, `start`, and `end`. The function should return a list where all elements in lst with an index between start and end (inclusive) have been removed.\n",
    "3. Create a function named `more_than_n` that has three parameters named `lst`, `item`, and `n`. The function should return True if the item appears in the list more than n times. The function should return False otherwise.\n",
    "4. Create a function named `more_frequent_item` that has three parameters named `lst`, item1, and item2.Return either item1 or item2 depending on which item appears more often in `lst`. If the two items appear the same number of times, return item1.\n",
    "5. WAP to count the occurrences of multiple items in a list using a single loop?\n",
    "6. Create a function called `middle_element` that has one parameter named `lst`. If there are an odd number of elements in `lst`, the function should return the middle element. If there are an even number of elements, the function should return the average of the middle two elements.\n",
    "7. Write a function named `append_sum` that has one parameter named `lst`. The function should add the last two elements of `lst` together and append the result to `lst`. It should do this process three times and then return `lst`.\n",
    "8. Write a function named `larger_list` that has two parameters named lst1 and lst2. The function should return the last element of the list that contains more elements. If both lists are the same size, then return the last element of lst1.\n",
    "9. Write a function named `combine_sort` that has two parameters named lst1 and lst2.The function should combine these two lists into one new list and sort the result. Return the new sorted list.\n",
    "10. Create a function called `every_three_nums` that has one parameter named start. The function should return a list of every third number between start and 100 (inclusive). For example, `every_three_nums(91)` should return the list [91, 94, 97, 100]. If the start is greater than 100, the function should return an empty list.\n",
    "11. **Create a function named `divisible_by_ten()` that takes a list of numbers named `nums` as a parameter. Return the count of how many numbers in the list are divisible by 10.**\n",
    "12. Write a function called `delete_starting_evens()` that has a parameter named `lst`. The function should remove elements from the front of `lst` until the front of the list is not even. The function should then return `lst`. For example if *`lst` started as `[4, 8, 10, 11, 12, 15]`, then `delete_starting_evens(lst)` should return `[11, 12, 15]`. Make sure your function works even if every element in the list is even!\n",
    "13. Create a function named `reversed_list()` that takes two lists of the same size as parameters named `lst1`and `lst2`. The function should return `True` if `lst1` is the same as `lst2` reversed. The function should return `False` otherwise. For example, `reversed_list([1, 2, 3], [3, 2, 1])` should return `True`."
   ]
  },
  {
   "cell_type": "markdown",
   "id": "5d18eec7",
   "metadata": {},
   "source": [
    "# Tuples\n",
    "1. It is a list which is immutable\n",
    "    * Immutable means that we can not change the element, number of elements and elements order.\n",
    "    * For Example, no use of append function\n",
    "2. All the functions of list can be applied to tuples such as sorting (only sorted can be used), count etc.\n",
    "3. To create Tuple we use round brackets ( )\n",
    "4. We can also conver list into tuple.\n",
    "    * `new_tuple=tuple(list)`\n",
    "5. To create a single element tuple use comma after the element. \n",
    "    * `one_element_Tuple = (element,) `"
   ]
  },
  {
   "cell_type": "markdown",
   "id": "e1c5fb37",
   "metadata": {},
   "source": [
    "## Create Tuple"
   ]
  },
  {
   "cell_type": "code",
   "execution_count": 92,
   "id": "d06635c4",
   "metadata": {},
   "outputs": [
    {
     "name": "stdout",
     "output_type": "stream",
     "text": [
      "('Abhinav', '28', 'Hokudai Student')\n",
      "<class 'tuple'>\n",
      "Abhinav\n",
      "Hokudai Student\n",
      "Hokudai Student\n"
     ]
    }
   ],
   "source": [
    "my_info=('Abhinav','28','Hokudai Student') \n",
    "print(my_info)\n",
    "print(type(my_info))\n",
    "print (my_info[0])  # Access first element\n",
    "print (my_info[-1]) # Access last element\n",
    "print (my_info[2])  # Access last element"
   ]
  },
  {
   "cell_type": "markdown",
   "id": "bb376cab",
   "metadata": {},
   "source": [
    "## Unpacking of tuple\n",
    "Order of unpacking should match the data order in tuple\n"
   ]
  },
  {
   "cell_type": "code",
   "execution_count": 93,
   "id": "49091161",
   "metadata": {},
   "outputs": [
    {
     "name": "stdout",
     "output_type": "stream",
     "text": [
      "Name: 28\n",
      "Name: Abhinav\n"
     ]
    }
   ],
   "source": [
    "age,name,job=my_info # Wrong Unpacking\n",
    "print('Name:', name)\n",
    "name,age,job=my_info  # Right Unpacking\n",
    "print('Name:', name)"
   ]
  },
  {
   "cell_type": "markdown",
   "id": "d6315ae3",
   "metadata": {},
   "source": [
    "## Difference between tuple and list"
   ]
  },
  {
   "cell_type": "code",
   "execution_count": 94,
   "id": "f277249f",
   "metadata": {},
   "outputs": [],
   "source": [
    "my_info_list=['Abhinav','28','Hokudai Student']"
   ]
  },
  {
   "cell_type": "code",
   "execution_count": 95,
   "id": "dbf43a8c",
   "metadata": {},
   "outputs": [],
   "source": [
    "# my_info[0] = 'Himanshu'"
   ]
  },
  {
   "cell_type": "code",
   "execution_count": 96,
   "id": "e0f7278f",
   "metadata": {},
   "outputs": [
    {
     "data": {
      "text/plain": [
       "['Himanshu', '28', 'Hokudai Student']"
      ]
     },
     "execution_count": 96,
     "metadata": {},
     "output_type": "execute_result"
    }
   ],
   "source": [
    "my_info_list[0] = 'Himanshu'\n",
    "my_info_list"
   ]
  },
  {
   "cell_type": "code",
   "execution_count": 97,
   "id": "d90ba254",
   "metadata": {},
   "outputs": [
    {
     "name": "stdout",
     "output_type": "stream",
     "text": [
      "4\n",
      "<class 'int'>\n"
     ]
    }
   ],
   "source": [
    "one_element_tuple_no = (4)\n",
    "print(one_element_tuple_no)\n",
    "print(type(one_element_tuple_no))"
   ]
  },
  {
   "cell_type": "code",
   "execution_count": 98,
   "id": "c066023e",
   "metadata": {},
   "outputs": [
    {
     "name": "stdout",
     "output_type": "stream",
     "text": [
      "(4,)\n",
      "<class 'tuple'>\n"
     ]
    }
   ],
   "source": [
    "one_element_tuple_yes = (4,)\n",
    "print(one_element_tuple_yes)\n",
    "print(type(one_element_tuple_yes))"
   ]
  },
  {
   "cell_type": "markdown",
   "id": "c12705dd",
   "metadata": {},
   "source": [
    "## Using range to create tuple"
   ]
  },
  {
   "cell_type": "code",
   "execution_count": 99,
   "id": "355f8373",
   "metadata": {},
   "outputs": [
    {
     "name": "stdout",
     "output_type": "stream",
     "text": [
      "(0, 1, 2, 3, 4, 5, 6, 7, 8, 9)\n"
     ]
    }
   ],
   "source": [
    "tuple_range=tuple(range(0,10))\n",
    "print(tuple_range)"
   ]
  },
  {
   "cell_type": "markdown",
   "id": "70891635",
   "metadata": {},
   "source": [
    "# Loops"
   ]
  },
  {
   "cell_type": "markdown",
   "id": "3fbca89b",
   "metadata": {},
   "source": [
    "# Dictionary"
   ]
  },
  {
   "cell_type": "markdown",
   "id": "1bd65979",
   "metadata": {},
   "source": [
    "A dictionary is an **unordered** set of **key: value** pairs\n",
    "```python3\n",
    "dict_name={\"key1\":value1, \"key2\":value2}\n",
    "```"
   ]
  },
  {
   "cell_type": "code",
   "execution_count": 2,
   "id": "1017850f",
   "metadata": {},
   "outputs": [
    {
     "name": "stdout",
     "output_type": "stream",
     "text": [
      "<class 'dict'>\n",
      "{'living_room': 28, 'kitchen': 32, 'bedroom': 20, 'pantry': 24}\n"
     ]
    }
   ],
   "source": [
    "sensor_temperature={\"living_room\":28, \"kitchen\":32, \"bedroom\":20, \"pantry\":24}\n",
    "print(type(sensor_temperature))\n",
    "print(sensor_temperature)"
   ]
  },
  {
   "cell_type": "markdown",
   "id": "227c99d9",
   "metadata": {},
   "source": [
    "**<span style=\"color:Red\">NOTE:</span>** \n",
    "1. A dictionary cannot have two keys with the same values.\n",
    "2. If a key needs to store multiple values, then the value associated with the key should be a list or another dictionary"
   ]
  },
  {
   "cell_type": "markdown",
   "id": "21cd5fb1",
   "metadata": {},
   "source": [
    "## Key and Value data types"
   ]
  },
  {
   "cell_type": "markdown",
   "id": "bc8966a5",
   "metadata": {},
   "source": [
    "`Key` can be a **number or a string** only but `value` can be a **number, string, list or another dictionary**. \n",
    "\n",
    "If we input key as a list or dictionary we will get `‘type error’`"
   ]
  },
  {
   "cell_type": "markdown",
   "id": "1dd38093",
   "metadata": {},
   "source": [
    "## Empty Dictionary\n",
    "```\n",
    "my_empty_dictionary={}\n",
    "```\n",
    "\n",
    "An empty dictionary (or other containers) will evaluate a Boolean `False`."
   ]
  },
  {
   "cell_type": "code",
   "execution_count": 13,
   "id": "d5db029e",
   "metadata": {},
   "outputs": [
    {
     "name": "stdout",
     "output_type": "stream",
     "text": [
      "Empty Dictionary\n"
     ]
    }
   ],
   "source": [
    "dict_empty={}\n",
    "if bool(dict_empty):\n",
    "    print('Non Empty Dictionary')\n",
    "else:\n",
    "    print('Empty Dictionary')"
   ]
  },
  {
   "cell_type": "code",
   "execution_count": 4,
   "id": "df0055f9",
   "metadata": {},
   "outputs": [
    {
     "name": "stdout",
     "output_type": "stream",
     "text": [
      "Empty List\n"
     ]
    }
   ],
   "source": [
    "list_empty=[]\n",
    "if bool(list_empty):\n",
    "    print('Non Empty List')\n",
    "else:\n",
    "    print('Empty List')"
   ]
  },
  {
   "cell_type": "markdown",
   "id": "63a54c71",
   "metadata": {},
   "source": [
    "## Add a Key\n",
    "```\n",
    "dict_name[\"new_key\"] = \"new_value\"\n",
    "```"
   ]
  },
  {
   "cell_type": "code",
   "execution_count": 14,
   "id": "13c27a84",
   "metadata": {},
   "outputs": [
    {
     "name": "stdout",
     "output_type": "stream",
     "text": [
      "{'livingRoom_temperature': 32}\n"
     ]
    }
   ],
   "source": [
    "dict_empty['livingRoom_temperature']=32\n",
    "print(dict_empty)"
   ]
  },
  {
   "cell_type": "markdown",
   "id": "56dfb65d",
   "metadata": {},
   "source": [
    "## Add Multiple Key: Value pair\n",
    "```python3\n",
    "dict_name.update({\"key1\": value, \"key2\": value})\n",
    "```"
   ]
  },
  {
   "cell_type": "code",
   "execution_count": 15,
   "id": "3d35a6a4",
   "metadata": {},
   "outputs": [
    {
     "name": "stdout",
     "output_type": "stream",
     "text": [
      "{'livingRoom_temperature': 32, 'kitchenTemperature': 32, 'PanteryTemperature': 30}\n"
     ]
    }
   ],
   "source": [
    "dict_empty.update({\"kitchenTemperature\":32, \"PanteryTemperature\": 30})\n",
    "print(dict_empty)"
   ]
  },
  {
   "cell_type": "markdown",
   "id": "13179d8a",
   "metadata": {},
   "source": [
    "## Overwrite Value\n",
    "```python3\n",
    "dict[\"key\"]=\"new_value\"\n",
    "```"
   ]
  },
  {
   "cell_type": "code",
   "execution_count": 16,
   "id": "1c93917b",
   "metadata": {},
   "outputs": [
    {
     "name": "stdout",
     "output_type": "stream",
     "text": [
      "{'livingRoom_temperature': 32, 'kitchenTemperature': 36, 'PanteryTemperature': 30}\n"
     ]
    }
   ],
   "source": [
    "dict_empty[\"kitchenTemperature\"]=36\n",
    "print(dict_empty)"
   ]
  },
  {
   "cell_type": "markdown",
   "id": "878af50b",
   "metadata": {},
   "source": [
    "## List Comprehensions to Dictionary\n",
    "Combine two list into dictionary\n",
    "```python3\n",
    "new_dict={key:value for key,value in zip(list1,list2)}\n",
    "```"
   ]
  },
  {
   "cell_type": "code",
   "execution_count": 17,
   "id": "7e961842",
   "metadata": {},
   "outputs": [],
   "source": [
    "names=['abhinav','chetna','chestha','manan','yukimi']\n",
    "age=[29,24,20,0,38]"
   ]
  },
  {
   "cell_type": "markdown",
   "id": "61f0f5ec",
   "metadata": {},
   "source": [
    "list comprehension"
   ]
  },
  {
   "cell_type": "code",
   "execution_count": 18,
   "id": "ba64f2a4",
   "metadata": {},
   "outputs": [
    {
     "data": {
      "text/plain": [
       "[('abhinav', 29),\n",
       " ('chetna', 24),\n",
       " ('chestha', 20),\n",
       " ('manan', 0),\n",
       " ('yukimi', 38)]"
      ]
     },
     "execution_count": 18,
     "metadata": {},
     "output_type": "execute_result"
    }
   ],
   "source": [
    "list(zip(names,age))"
   ]
  },
  {
   "cell_type": "code",
   "execution_count": 19,
   "id": "e7894281",
   "metadata": {},
   "outputs": [
    {
     "data": {
      "text/plain": [
       "{'abhinav': 29, 'chetna': 24, 'chestha': 20, 'manan': 0, 'yukimi': 38}"
      ]
     },
     "execution_count": 19,
     "metadata": {},
     "output_type": "execute_result"
    }
   ],
   "source": [
    "names_age={key:value for key,value in zip(names,age)}\n",
    "names_age"
   ]
  },
  {
   "cell_type": "markdown",
   "id": "28691016",
   "metadata": {},
   "source": [
    "## Get the values for a Key\n",
    "```python3\n",
    "print(dict[\"key_name\"]\n",
    "```"
   ]
  },
  {
   "cell_type": "code",
   "execution_count": 20,
   "id": "8a373f32",
   "metadata": {},
   "outputs": [
    {
     "name": "stdout",
     "output_type": "stream",
     "text": [
      "29\n"
     ]
    }
   ],
   "source": [
    "print(names_age['abhinav'])"
   ]
  },
  {
   "cell_type": "markdown",
   "id": "2ae3027f",
   "metadata": {},
   "source": [
    "## Get an the value for the Invalid Key\n",
    "If we try to access a **key which is not present** we get a `key error`.\n",
    "\n",
    "First we should check if the key is present or not.\n",
    "\n",
    "### How to check the valid keys?"
   ]
  },
  {
   "cell_type": "markdown",
   "id": "2e6a5cf6",
   "metadata": {},
   "source": [
    "#### If and else"
   ]
  },
  {
   "cell_type": "code",
   "execution_count": 21,
   "id": "b1dae391",
   "metadata": {},
   "outputs": [
    {
     "name": "stdout",
     "output_type": "stream",
     "text": [
      "No such keys\n"
     ]
    }
   ],
   "source": [
    "key_to_check='vinesh'\n",
    "if key_to_check in names_age:\n",
    "    print(names_age[key_to_check])\n",
    "else:\n",
    "    print('No such keys')"
   ]
  },
  {
   "cell_type": "code",
   "execution_count": 22,
   "id": "d969bbbe",
   "metadata": {},
   "outputs": [
    {
     "name": "stdout",
     "output_type": "stream",
     "text": [
      "29\n"
     ]
    }
   ],
   "source": [
    "key_to_check='abhinav'\n",
    "if key_to_check in names_age:\n",
    "    print(names_age[key_to_check])\n",
    "else:\n",
    "    print('No such keys')"
   ]
  },
  {
   "cell_type": "markdown",
   "id": "8525d401",
   "metadata": {},
   "source": [
    "#### Try/Except"
   ]
  },
  {
   "cell_type": "code",
   "execution_count": 23,
   "id": "80c1984c",
   "metadata": {},
   "outputs": [
    {
     "name": "stdout",
     "output_type": "stream",
     "text": [
      "No such Keys!\n"
     ]
    }
   ],
   "source": [
    "key_to_check='vinesh'\n",
    "try:\n",
    "    print(names_age[key_to_check])\n",
    "except KeyError:\n",
    "    print('No such Keys!')"
   ]
  },
  {
   "cell_type": "code",
   "execution_count": 24,
   "id": "368f2e72",
   "metadata": {},
   "outputs": [
    {
     "name": "stdout",
     "output_type": "stream",
     "text": [
      "29\n"
     ]
    }
   ],
   "source": [
    "key_to_check='abhinav'\n",
    "try:\n",
    "    print(names_age[key_to_check])\n",
    "except KeyError:\n",
    "    print('No such Keys!')"
   ]
  },
  {
   "cell_type": "markdown",
   "id": "d8731402",
   "metadata": {},
   "source": [
    "### Safely Get a key: `.get()`\n",
    "Dictionaries have a `.get()` method to search for a `value` instead of the `my_dict[key]` notation we have been using. \n",
    "\n",
    "If the key you are trying to `.get()` does not exist, it will return `None` by default:\n",
    "\n",
    "```python3\n",
    "dict.get(\"key\",default_val)\n",
    "```\n",
    "You can also specify a value to return if the key doesn’t exist using `default_val`.\n"
   ]
  },
  {
   "cell_type": "code",
   "execution_count": 25,
   "id": "26d163e1",
   "metadata": {},
   "outputs": [
    {
     "data": {
      "text/plain": [
       "0"
      ]
     },
     "execution_count": 25,
     "metadata": {},
     "output_type": "execute_result"
    }
   ],
   "source": [
    "names_age.get('vinesh',0)"
   ]
  },
  {
   "cell_type": "code",
   "execution_count": 26,
   "id": "9d61ae83",
   "metadata": {},
   "outputs": [
    {
     "data": {
      "text/plain": [
       "29"
      ]
     },
     "execution_count": 26,
     "metadata": {},
     "output_type": "execute_result"
    }
   ],
   "source": [
    "names_age.get('abhinav',0)"
   ]
  },
  {
   "cell_type": "markdown",
   "id": "307b5614",
   "metadata": {},
   "source": [
    "## Delete a Key: `.pop()`\n",
    "Get a key and remove it. We have to return the value for a key and also remove it. For example, lottery number.\n",
    "```python3\n",
    "dict.pop('key',default_val)\n",
    "```\n",
    "\n",
    "Just like with `.get()`, we can provide a default value to return if the key does not exist in the dictionary.\n",
    "\n",
    "`.pop()` returns the key error if the key is not found. Therefore it is better to provide for the default value if the key is not found.\n"
   ]
  },
  {
   "cell_type": "code",
   "execution_count": 27,
   "id": "87003b72",
   "metadata": {},
   "outputs": [
    {
     "data": {
      "text/plain": [
       "{'abhinav': 29, 'chetna': 24, 'chestha': 20, 'manan': 0, 'yukimi': 38}"
      ]
     },
     "execution_count": 27,
     "metadata": {},
     "output_type": "execute_result"
    }
   ],
   "source": [
    "names_age"
   ]
  },
  {
   "cell_type": "code",
   "execution_count": 28,
   "id": "3c3bc901",
   "metadata": {},
   "outputs": [
    {
     "data": {
      "text/plain": [
       "{'abhinav': 29,\n",
       " 'chetna': 24,\n",
       " 'chestha': 20,\n",
       " 'manan': 0,\n",
       " 'yukimi': 38,\n",
       " 'vinesh': 50}"
      ]
     },
     "execution_count": 28,
     "metadata": {},
     "output_type": "execute_result"
    }
   ],
   "source": [
    "names_age['vinesh']=50\n",
    "names_age"
   ]
  },
  {
   "cell_type": "code",
   "execution_count": 32,
   "id": "0b2ff9a8",
   "metadata": {},
   "outputs": [
    {
     "data": {
      "text/plain": [
       "0"
      ]
     },
     "execution_count": 32,
     "metadata": {},
     "output_type": "execute_result"
    }
   ],
   "source": [
    "names_age.pop('Vinesh',0)"
   ]
  },
  {
   "cell_type": "code",
   "execution_count": 30,
   "id": "bedf8470",
   "metadata": {},
   "outputs": [
    {
     "data": {
      "text/plain": [
       "50"
      ]
     },
     "execution_count": 30,
     "metadata": {},
     "output_type": "execute_result"
    }
   ],
   "source": [
    "names_age.pop('vinesh',0)"
   ]
  },
  {
   "cell_type": "code",
   "execution_count": 31,
   "id": "bd27749e",
   "metadata": {},
   "outputs": [
    {
     "data": {
      "text/plain": [
       "{'abhinav': 29, 'chetna': 24, 'chestha': 20, 'manan': 0, 'yukimi': 38}"
      ]
     },
     "execution_count": 31,
     "metadata": {},
     "output_type": "execute_result"
    }
   ],
   "source": [
    "names_age"
   ]
  },
  {
   "cell_type": "markdown",
   "id": "15fe24ac",
   "metadata": {},
   "source": [
    "## Get all the Keys\n",
    "### List Function\n",
    "Get all the keys present in the dictionary.\n",
    "```python3\n",
    "list(dict_name)\n",
    "```\n",
    "* It will return `list` object"
   ]
  },
  {
   "cell_type": "code",
   "execution_count": 33,
   "id": "c52701ce",
   "metadata": {},
   "outputs": [
    {
     "data": {
      "text/plain": [
       "['abhinav', 'chetna', 'chestha', 'manan', 'yukimi']"
      ]
     },
     "execution_count": 33,
     "metadata": {},
     "output_type": "execute_result"
    }
   ],
   "source": [
    "list(names_age)"
   ]
  },
  {
   "cell_type": "code",
   "execution_count": 34,
   "id": "a8a66e03",
   "metadata": {},
   "outputs": [
    {
     "data": {
      "text/plain": [
       "{'Burj Khalifa': 828,\n",
       " 'Shanghai Tower': 632,\n",
       " 'Abraj Al Bait': 601,\n",
       " 'Ping An': 599,\n",
       " 'Lotte World Tower': 554.5,\n",
       " 'One World Trade': 541.3}"
      ]
     },
     "execution_count": 34,
     "metadata": {},
     "output_type": "execute_result"
    }
   ],
   "source": [
    "building_heights = {\"Burj Khalifa\": 828, \"Shanghai Tower\": 632, \"Abraj Al Bait\": 601, \"Ping An\": 599,\n",
    "                    \"Lotte World Tower\": 554.5, \"One World Trade\": 541.3}\n",
    "building_heights"
   ]
  },
  {
   "cell_type": "code",
   "execution_count": 35,
   "id": "bffbcb20",
   "metadata": {},
   "outputs": [
    {
     "data": {
      "text/plain": [
       "['Burj Khalifa',\n",
       " 'Shanghai Tower',\n",
       " 'Abraj Al Bait',\n",
       " 'Ping An',\n",
       " 'Lotte World Tower',\n",
       " 'One World Trade']"
      ]
     },
     "execution_count": 35,
     "metadata": {},
     "output_type": "execute_result"
    }
   ],
   "source": [
    "list(building_heights)"
   ]
  },
  {
   "cell_type": "code",
   "execution_count": 37,
   "id": "8acfc97e",
   "metadata": {},
   "outputs": [
    {
     "name": "stdout",
     "output_type": "stream",
     "text": [
      "<class 'list'>\n"
     ]
    }
   ],
   "source": [
    "print(type(list(building_heights)))"
   ]
  },
  {
   "cell_type": "markdown",
   "id": "d5d44211",
   "metadata": {},
   "source": [
    "### `.Keys()` Method\n",
    "Dictionaries also have a `.keys()` method that returns a `dict_keys object`.\n",
    "\n",
    "A `dict_keys object` is a view object, which provides a look at the current state of the dicitonary, without the user being able to modify anything."
   ]
  },
  {
   "cell_type": "code",
   "execution_count": 39,
   "id": "ae01b328",
   "metadata": {},
   "outputs": [
    {
     "name": "stdout",
     "output_type": "stream",
     "text": [
      "dict_keys(['abhinav', 'chetna', 'chestha', 'manan', 'yukimi'])\n"
     ]
    }
   ],
   "source": [
    "print(names_age.keys())"
   ]
  },
  {
   "cell_type": "code",
   "execution_count": 41,
   "id": "8eaa3d2b",
   "metadata": {},
   "outputs": [
    {
     "name": "stdout",
     "output_type": "stream",
     "text": [
      "abhinav\n",
      "chetna\n",
      "chestha\n",
      "manan\n",
      "yukimi\n"
     ]
    }
   ],
   "source": [
    "for names in names_age.keys():\n",
    "    print(names)"
   ]
  },
  {
   "cell_type": "markdown",
   "id": "2e76b279",
   "metadata": {},
   "source": [
    "<code style=\"background:yellow;color:black\">Looping through all the keys in reverse order </code>"
   ]
  },
  {
   "cell_type": "code",
   "execution_count": 53,
   "id": "4bd632cb",
   "metadata": {},
   "outputs": [
    {
     "name": "stdout",
     "output_type": "stream",
     "text": [
      "yukimi\n",
      "manan\n",
      "chetna\n",
      "chestha\n",
      "abhinav\n"
     ]
    }
   ],
   "source": [
    "for names in sorted(names_age.keys(),reverse=True):\n",
    "    print(names)"
   ]
  },
  {
   "cell_type": "markdown",
   "id": "2ffe0458",
   "metadata": {},
   "source": [
    "## Get all the values present in the dictionary: `.values()`\n",
    "Dictionaries have a `.values()` method that returns a `dict_values` object (just like a `dict_keys` object but for values!) with all of the values in the dictionary. There is **no built-in function to get all of the values as a list**, but if you really want to, you can use:\n",
    "\n",
    "```python3\n",
    "list(test_scores.values())\n",
    "```"
   ]
  },
  {
   "cell_type": "code",
   "execution_count": 44,
   "id": "b754d3c9",
   "metadata": {},
   "outputs": [],
   "source": [
    "ages=names_age.values()"
   ]
  },
  {
   "cell_type": "code",
   "execution_count": 45,
   "id": "ca4a1e04",
   "metadata": {},
   "outputs": [
    {
     "data": {
      "text/plain": [
       "dict_values([29, 24, 20, 0, 38])"
      ]
     },
     "execution_count": 45,
     "metadata": {},
     "output_type": "execute_result"
    }
   ],
   "source": [
    "ages"
   ]
  },
  {
   "cell_type": "markdown",
   "id": "9c91b43c",
   "metadata": {},
   "source": [
    "**<span style=\"color:Red\">NOTE:</span>** However, for most purposes, the `dict_value` object will act the way you want a list to act.\n"
   ]
  },
  {
   "cell_type": "code",
   "execution_count": 48,
   "id": "254832ca",
   "metadata": {},
   "outputs": [
    {
     "name": "stdout",
     "output_type": "stream",
     "text": [
      "[0, 20, 24, 29, 38]\n",
      "111\n"
     ]
    }
   ],
   "source": [
    "print(sorted(ages))\n",
    "print(sum(ages))"
   ]
  },
  {
   "cell_type": "code",
   "execution_count": 43,
   "id": "b87b6b2c",
   "metadata": {},
   "outputs": [
    {
     "data": {
      "text/plain": [
       "[29, 24, 20, 0, 38]"
      ]
     },
     "execution_count": 43,
     "metadata": {},
     "output_type": "execute_result"
    }
   ],
   "source": [
    "list(names_age.values())"
   ]
  },
  {
   "cell_type": "markdown",
   "id": "139f5591",
   "metadata": {},
   "source": [
    "## Get all items `.items()`"
   ]
  },
  {
   "cell_type": "markdown",
   "id": "3e3820c1",
   "metadata": {},
   "source": [
    "* You can get both the keys and the values with the `.items()` method. Like `.keys()` and `.values()`, it returns a `dict_lis` object. \n",
    "* Each element of the dict_list returned by `.items()` is a **tuple** consisting of:(key, value) so to iterate through.\n",
    "\n",
    "<code style=\"background:yellow;color:black\">Useful for looping through a dictionary</code>"
   ]
  },
  {
   "cell_type": "code",
   "execution_count": 49,
   "id": "9d9ddbfc",
   "metadata": {},
   "outputs": [],
   "source": [
    "biggest_brands = {\"Apple\": 184, \"Google\": 141.7,\"Microsoft\": 80, \"Coca-Cola\": 69.7, \"Amazon\": 64.8}"
   ]
  },
  {
   "cell_type": "code",
   "execution_count": 50,
   "id": "d8e719b3",
   "metadata": {},
   "outputs": [
    {
     "data": {
      "text/plain": [
       "dict_items([('Apple', 184), ('Google', 141.7), ('Microsoft', 80), ('Coca-Cola', 69.7), ('Amazon', 64.8)])"
      ]
     },
     "execution_count": 50,
     "metadata": {},
     "output_type": "execute_result"
    }
   ],
   "source": [
    "biggest_brands.items()"
   ]
  },
  {
   "cell_type": "code",
   "execution_count": 52,
   "id": "d6c7c4ef",
   "metadata": {},
   "outputs": [
    {
     "name": "stdout",
     "output_type": "stream",
     "text": [
      "Apple has a value of 184 billion dollars. \n",
      "Google has a value of 141.7 billion dollars. \n",
      "Microsoft has a value of 80 billion dollars. \n",
      "Coca-Cola has a value of 69.7 billion dollars. \n",
      "Amazon has a value of 64.8 billion dollars. \n"
     ]
    }
   ],
   "source": [
    "for company,value in biggest_brands.items():\n",
    "    print(company + \" has a value of \" + str(value) + \" billion dollars. \")"
   ]
  },
  {
   "cell_type": "markdown",
   "id": "d45c184f",
   "metadata": {},
   "source": [
    "## Nesting- A list of dictionaries\n",
    "Useful to store a set of dictionaries in a list;this is called nesting."
   ]
  },
  {
   "cell_type": "code",
   "execution_count": 54,
   "id": "be8fefe0",
   "metadata": {},
   "outputs": [],
   "source": [
    "# Start with an empty list.\n",
    "users = []\n",
    "# Make a new user, and add them to the list.\n",
    "new_user = {\n",
    " 'last': 'fermi',\n",
    " 'first': 'enrico',\n",
    " 'username': 'efermi',\n",
    " }\n",
    "users.append(new_user)\n",
    "# Make another new user, and add them as well.\n",
    "new_user = {\n",
    " 'last': 'curie',\n",
    " 'first': 'marie',\n",
    " 'username': 'mcurie',\n",
    " }\n",
    "users.append(new_user)"
   ]
  },
  {
   "cell_type": "code",
   "execution_count": 58,
   "id": "89d0c8bc",
   "metadata": {},
   "outputs": [
    {
     "name": "stdout",
     "output_type": "stream",
     "text": [
      "last: fermi\n",
      "first: enrico\n",
      "username: efermi\n",
      "=================\n",
      "last: curie\n",
      "first: marie\n",
      "username: mcurie\n",
      "=================\n"
     ]
    }
   ],
   "source": [
    "for user_dict in users:\n",
    " for k, v in user_dict.items():\n",
    "     print(f\"{k}: {v}\")\n",
    " print(\"=================\") "
   ]
  },
  {
   "cell_type": "markdown",
   "id": "8163fe1b",
   "metadata": {},
   "source": [
    "## Nesting ‒ Lists in a dictionary\n",
    "Storing a list inside a dictionary allows you to associate more than one value with each key"
   ]
  },
  {
   "cell_type": "code",
   "execution_count": 60,
   "id": "7df83543",
   "metadata": {},
   "outputs": [
    {
     "name": "stdout",
     "output_type": "stream",
     "text": [
      "jen: \n",
      "- python\n",
      "- ruby\n",
      "sarah: \n",
      "- c\n",
      "edward: \n",
      "- ruby\n",
      "- go\n",
      "phil: \n",
      "- python\n",
      "- haskell\n"
     ]
    }
   ],
   "source": [
    "# Store multiple languages for each person.\n",
    "fav_languages = {\n",
    " 'jen': ['python', 'ruby'],\n",
    " 'sarah': ['c'],\n",
    " 'edward': ['ruby', 'go'],\n",
    " 'phil': ['python', 'haskell'],\n",
    "}\n",
    "# Show all responses for each person.\n",
    "for name, langs in fav_languages.items():\n",
    " print(f\"{name}: \")\n",
    " for lang in langs:\n",
    "     print(f\"- {lang}\")"
   ]
  },
  {
   "cell_type": "markdown",
   "id": "9854657e",
   "metadata": {},
   "source": [
    "## Dictionary Comprehensions* \n",
    "* A comprehension is a compact way of generating a dictionary, similar to a list comprehension. \n",
    "\n",
    "* To make a dictionary comprehension, define an expression for the key-value pairs you want to make. \n",
    "\n",
    "* Then write a for loop to generate the values that will feed into this expression.\n",
    "\n",
    "### Using loop to make a dictionary"
   ]
  },
  {
   "cell_type": "code",
   "execution_count": 63,
   "id": "d6638341",
   "metadata": {},
   "outputs": [
    {
     "data": {
      "text/plain": [
       "{0: 0, 1: 1, 2: 4, 3: 9, 4: 16}"
      ]
     },
     "execution_count": 63,
     "metadata": {},
     "output_type": "execute_result"
    }
   ],
   "source": [
    "squares = {}\n",
    "for x in range(5):\n",
    " squares[x] = x**2\n",
    "squares"
   ]
  },
  {
   "cell_type": "markdown",
   "id": "62b04734",
   "metadata": {},
   "source": [
    "### Using a dictionary comprehension"
   ]
  },
  {
   "cell_type": "code",
   "execution_count": 66,
   "id": "02f4b3ef",
   "metadata": {},
   "outputs": [
    {
     "data": {
      "text/plain": [
       "{0: 0, 1: 1, 2: 4, 3: 9, 4: 16}"
      ]
     },
     "execution_count": 66,
     "metadata": {},
     "output_type": "execute_result"
    }
   ],
   "source": [
    "squares = {x:x**2 for x in range(5)}\n",
    "squares"
   ]
  },
  {
   "cell_type": "markdown",
   "id": "47cdd1db",
   "metadata": {},
   "source": [
    "# String"
   ]
  },
  {
   "cell_type": "markdown",
   "id": "87c8302e",
   "metadata": {},
   "source": [
    "## What is a string"
   ]
  },
  {
   "cell_type": "markdown",
   "id": "237c67ca",
   "metadata": {},
   "source": [
    "* A string is a sequence of characters. \n",
    "* It can be any length and can **contain any letters, numbers, symbols, and spaces.**\n",
    "* A string can be thought of as a `list of characters`. Like any other list, each character in a string has an `index`."
   ]
  },
  {
   "cell_type": "code",
   "execution_count": 2,
   "id": "058b0413",
   "metadata": {},
   "outputs": [
    {
     "name": "stdout",
     "output_type": "stream",
     "text": [
      "<class 'str'>\n",
      "Abhi1234#  \n",
      "A\n",
      "11\n"
     ]
    }
   ],
   "source": [
    "mystring='Abhi1234#  '\n",
    "print(type(mystring))\n",
    "print(mystring)\n",
    "print(mystring[0])\n",
    "print(len(mystring))"
   ]
  },
  {
   "cell_type": "code",
   "execution_count": 4,
   "id": "0af15976",
   "metadata": {},
   "outputs": [
    {
     "name": "stdout",
     "output_type": "stream",
     "text": [
      "i1234\n",
      "Abhi1\n"
     ]
    }
   ],
   "source": [
    "print(mystring[3:8])\n",
    "print(mystring[:5])"
   ]
  },
  {
   "cell_type": "code",
   "execution_count": 5,
   "id": "6392f048",
   "metadata": {},
   "outputs": [
    {
     "data": {
      "text/plain": [
       "'Meet me at the park'"
      ]
     },
     "execution_count": 5,
     "metadata": {},
     "output_type": "execute_result"
    }
   ],
   "source": [
    "message = \"MXeXeXtX XmXeX XaXtX XtXhXeX XpXaXrXkX\"\n",
    "# Message string is not clear, using the slicing make this string clear.\n",
    "message[::2]"
   ]
  },
  {
   "cell_type": "markdown",
   "id": "091a0da0",
   "metadata": {},
   "source": [
    "## Various ways to print the strings"
   ]
  },
  {
   "cell_type": "code",
   "execution_count": 13,
   "id": "16d4a87a",
   "metadata": {},
   "outputs": [
    {
     "name": "stdout",
     "output_type": "stream",
     "text": [
      "Hello world\n",
      "Hello world, \"my world\"\n",
      "Hello world, \n",
      "\"my world\"\n",
      "It's a sunny day\n",
      "It's a sunny day\n",
      "\"Delia said, 'This will never work.'\" \n"
     ]
    }
   ],
   "source": [
    "print(\"Hello world\")\n",
    "print(\"Hello world, \\\"my world\\\"\")\n",
    "print(\"Hello world, \\n\\\"my world\\\"\")\n",
    "print('It\\'s a sunny day')\n",
    "print(\"It's a sunny day\")\n",
    "print(\"\\\"Delia said, 'This will never work.'\\\" \")"
   ]
  },
  {
   "cell_type": "code",
   "execution_count": 12,
   "id": "a51b0c14",
   "metadata": {},
   "outputs": [
    {
     "name": "stdout",
     "output_type": "stream",
     "text": [
      "10\n",
      "15\n",
      "150\n",
      "10\n",
      "\n",
      "15\n",
      "\n",
      "150\n",
      "10\t15\t150\n",
      "10\t\t15\t\t150\n"
     ]
    }
   ],
   "source": [
    "a=10\n",
    "b=15\n",
    "c=a*b\n",
    "print(a,b,c, sep='\\n') #sep is used to seprate the\n",
    "print(a,b,c, sep='\\n\\n') #sep is used to seprate the\n",
    "print(a,b,c,sep='\\t')\n",
    "print(a,b,c,sep='\\t\\t')"
   ]
  },
  {
   "cell_type": "markdown",
   "id": "b15a150d",
   "metadata": {},
   "source": [
    "## Multiline strings"
   ]
  },
  {
   "cell_type": "code",
   "execution_count": 14,
   "id": "e80d2f71",
   "metadata": {},
   "outputs": [
    {
     "name": "stdout",
     "output_type": "stream",
     "text": [
      "\n",
      "Stranger, if you passing meet me and desire to speak\n",
      "to me, why\n",
      "should you not speak to me?\n",
      "And why should I not speak to you?\n",
      "\n"
     ]
    }
   ],
   "source": [
    "to_you='''\n",
    "Stranger, if you passing meet me and desire to speak\n",
    "to me, why\n",
    "should you not speak to me?\n",
    "And why should I not speak to you?\n",
    "'''\n",
    "print(to_you)"
   ]
  },
  {
   "cell_type": "markdown",
   "id": "bb6fb424",
   "metadata": {},
   "source": [
    "## Concatenate strings"
   ]
  },
  {
   "cell_type": "markdown",
   "id": "81abda20",
   "metadata": {},
   "source": [
    "* Strings can be concatenated using `+`.\n",
    "* `+` joins the strings without any space."
   ]
  },
  {
   "cell_type": "code",
   "execution_count": 15,
   "id": "177af1b0",
   "metadata": {},
   "outputs": [
    {
     "name": "stdout",
     "output_type": "stream",
     "text": [
      "blueberries\n"
     ]
    }
   ],
   "source": [
    "fruit_prefix = \"blue\"\n",
    "fruit_suffix = \"berries\"\n",
    "favorite_fruit = fruit_prefix + fruit_suffix\n",
    "print(favorite_fruit)"
   ]
  },
  {
   "cell_type": "code",
   "execution_count": 16,
   "id": "29ec56b3",
   "metadata": {},
   "outputs": [
    {
     "name": "stdout",
     "output_type": "stream",
     "text": [
      "blue berries\n"
     ]
    }
   ],
   "source": [
    "fruit_prefix = \"blue \"\n",
    "fruit_suffix = \"berries\"\n",
    "favorite_fruit = fruit_prefix + fruit_suffix\n",
    "print(favorite_fruit)"
   ]
  },
  {
   "cell_type": "code",
   "execution_count": 18,
   "id": "fc2c850d",
   "metadata": {},
   "outputs": [
    {
     "name": "stdout",
     "output_type": "stream",
     "text": [
      "My favorite fruit is blue berries\n"
     ]
    }
   ],
   "source": [
    "fruit_sentence = \"My favorite fruit is \" + favorite_fruit\n",
    "print (fruit_sentence)"
   ]
  },
  {
   "cell_type": "markdown",
   "id": "f398a6b1",
   "metadata": {},
   "source": [
    "## length of string: `len()`"
   ]
  },
  {
   "cell_type": "markdown",
   "id": "297074d9",
   "metadata": {},
   "source": [
    "* **spaces** are counted as well.\n",
    "* `len()` comes in handy when we are trying to select the last character in a string.\n",
    "* Using a `len()` statement as the starting index and omitting the final index lets you slice n characters from the end of a string where `n` is the amount you subtract from `len()`."
   ]
  },
  {
   "cell_type": "code",
   "execution_count": 20,
   "id": "09a4af48",
   "metadata": {},
   "outputs": [
    {
     "name": "stdout",
     "output_type": "stream",
     "text": [
      "o\n",
      "on\n"
     ]
    }
   ],
   "source": [
    "cool_fruit='watermelon'\n",
    "print(cool_fruit[len(cool_fruit)-2])\n",
    "print(cool_fruit[len(cool_fruit)-2:])"
   ]
  },
  {
   "cell_type": "markdown",
   "id": "33c335d1",
   "metadata": {},
   "source": [
    "## Strings are immutable"
   ]
  },
  {
   "cell_type": "markdown",
   "id": "f192183b",
   "metadata": {},
   "source": [
    "* This means that we cannot change a string once it is created. \n",
    "* We can use it to create other strings, but we cannot change the string itself.\n",
    "* If we try to replace it gives us `TypeError`"
   ]
  },
  {
   "cell_type": "code",
   "execution_count": 25,
   "id": "af1dce3e",
   "metadata": {},
   "outputs": [],
   "source": [
    "first_name='Bob'\n",
    "#first_name[0]='R'"
   ]
  },
  {
   "cell_type": "code",
   "execution_count": 24,
   "id": "c9fd614d",
   "metadata": {},
   "outputs": [
    {
     "name": "stdout",
     "output_type": "stream",
     "text": [
      "Rob\n"
     ]
    }
   ],
   "source": [
    "First_name = \"Bob\"\n",
    "last_name = \"Daily\"\n",
    "#first_name[0]=\"R\" #Type Error\n",
    "fixed_first_name=\"R\"+first_name[1:]\n",
    "print(fixed_first_name)"
   ]
  },
  {
   "cell_type": "markdown",
   "id": "5cf3a624",
   "metadata": {},
   "source": [
    "## Escape characters"
   ]
  },
  {
   "cell_type": "markdown",
   "id": "1d5c35b1",
   "metadata": {},
   "source": [
    "* By adding a backslash in front of the special character we want to escape,`\\`, we can include it in a string. \n",
    "* We have to add a backslash (`\\`) before a special character. \n",
    "* Also the **escape character is not counted in length**."
   ]
  },
  {
   "cell_type": "code",
   "execution_count": 26,
   "id": "61eaddee",
   "metadata": {},
   "outputs": [
    {
     "name": "stdout",
     "output_type": "stream",
     "text": [
      "theycallme\"crazy\"91\n"
     ]
    }
   ],
   "source": [
    "password = \"theycallme\\\"crazy\\\"91\"\n",
    "print(password)"
   ]
  },
  {
   "cell_type": "markdown",
   "id": "0740d37d",
   "metadata": {},
   "source": [
    "## String Iterations"
   ]
  },
  {
   "cell_type": "markdown",
   "id": "b1a80bb6",
   "metadata": {},
   "source": [
    "* Strings are `lists`, that means we can iterate through a string using `for` or `while` loops."
   ]
  },
  {
   "cell_type": "code",
   "execution_count": 27,
   "id": "23933ebd",
   "metadata": {},
   "outputs": [
    {
     "name": "stdout",
     "output_type": "stream",
     "text": [
      "R\n",
      "a\n",
      "m\n",
      "e\n",
      "s\n",
      "h\n"
     ]
    }
   ],
   "source": [
    "name='Ramesh'\n",
    "for char in name:\n",
    "    print(char)"
   ]
  },
  {
   "cell_type": "code",
   "execution_count": 28,
   "id": "1cc33fad",
   "metadata": {},
   "outputs": [
    {
     "name": "stdout",
     "output_type": "stream",
     "text": [
      "6\n"
     ]
    }
   ],
   "source": [
    "name='Ramesh'\n",
    "counter=0\n",
    "for char in name:\n",
    "    counter=counter+1\n",
    "print(counter)"
   ]
  },
  {
   "cell_type": "markdown",
   "id": "490f9296",
   "metadata": {},
   "source": [
    "## Strings and condition"
   ]
  },
  {
   "cell_type": "markdown",
   "id": "970250c4",
   "metadata": {},
   "source": [
    "Write a function called `letter_check` that takes two inputs, `word` and `letter`.This function should return `True` if the word contains the letter and `False` if it does not."
   ]
  },
  {
   "cell_type": "code",
   "execution_count": 31,
   "id": "df4b2ada",
   "metadata": {},
   "outputs": [
    {
     "name": "stdout",
     "output_type": "stream",
     "text": [
      "present\n",
      "True\n",
      "not present\n",
      "False\n"
     ]
    }
   ],
   "source": [
    "def letter_check(word,letter):\n",
    "    for ltr in word:\n",
    "        if letter==ltr:\n",
    "            print('present')\n",
    "            return True\n",
    "        else:\n",
    "            print('not present')\n",
    "            return False\n",
    "print(letter_check('ramesh','r'))\n",
    "print(letter_check('ramesh','R'))"
   ]
  },
  {
   "cell_type": "markdown",
   "id": "1fdc50b3",
   "metadata": {},
   "source": [
    "## String casing"
   ]
  },
  {
   "cell_type": "markdown",
   "id": "d1adc3e8",
   "metadata": {},
   "source": [
    "* There are three string methods that can change the casing of a string. \n",
    "* These are `.lower()`, `.upper()`, and `.title()`.\n",
    "* It’s important to remember that string methods **can only create new strings, they do not change the original string**."
   ]
  },
  {
   "cell_type": "code",
   "execution_count": 34,
   "id": "06f2d380",
   "metadata": {},
   "outputs": [
    {
     "name": "stdout",
     "output_type": "stream",
     "text": [
      "Spring Storm\n",
      "WILLIAM CARLOS WILLIAMS\n",
      "william carlos williams\n"
     ]
    }
   ],
   "source": [
    "poem_title = \"spring storm\"\n",
    "poem_author = \"William Carlos Williams\"\n",
    "poem_author2 = \"WILLIAM CARLOS WILLIAMS\"\n",
    "poem_title_fixed=poem_title.title()\n",
    "print(poem_title_fixed)\n",
    "poem_author_fixed=poem_author.upper()\n",
    "print(poem_author_fixed)\n",
    "poem_author_fixed2=poem_author2.lower()\n",
    "print(poem_author_fixed2)"
   ]
  },
  {
   "cell_type": "markdown",
   "id": "b8907ccb",
   "metadata": {},
   "source": [
    "## `.split()`"
   ]
  },
  {
   "cell_type": "markdown",
   "id": "5c81cbfe",
   "metadata": {},
   "source": [
    "* It is performed on a string, takes **one argument**, and **returns a list of substrings found between the given argument** (which in the case of .`split()` is known as the `elimiter`).\n",
    "* If you do not provide an argument for `.split()` it will **efault** to splitting at `‘spaces’`.\n",
    "* `\\n` Newline\n",
    "* `\\t` Horizontal Tab"
   ]
  },
  {
   "cell_type": "code",
   "execution_count": 35,
   "id": "771a88da",
   "metadata": {},
   "outputs": [
    {
     "name": "stdout",
     "output_type": "stream",
     "text": [
      "['The', 'sky', 'has', 'given', 'over']\n"
     ]
    }
   ],
   "source": [
    "line_one = \"The sky has given over\"\n",
    "line_one_words=line_one.split()\n",
    "print(line_one_words)"
   ]
  },
  {
   "cell_type": "code",
   "execution_count": 36,
   "id": "3a9f44fc",
   "metadata": {},
   "outputs": [
    {
     "name": "stdout",
     "output_type": "stream",
     "text": [
      "['Th', ' sky has giv', 'n ov', 'r']\n"
     ]
    }
   ],
   "source": [
    "line_one = \"The sky has given over\"\n",
    "line_one_words=line_one.split('e')\n",
    "print(line_one_words)"
   ]
  },
  {
   "cell_type": "code",
   "execution_count": 37,
   "id": "b6115dac",
   "metadata": {},
   "outputs": [
    {
     "name": "stdout",
     "output_type": "stream",
     "text": [
      "['Audre Lorde', 'Gabriela Mistral', 'Jean Toomer', 'An Qi', 'Walt Whitman', 'Shel Silverstein', 'Carmen Boullosa', 'Kamala Suraiyya', 'Langston Hughes', 'Adrienne Rich', 'Nikki Giovanni']\n"
     ]
    }
   ],
   "source": [
    "authors = \"Audre Lorde,Gabriela Mistral,Jean Toomer,An Qi,Walt Whitman,Shel Silverstein,Carmen Boullosa,Kamala Suraiyya,\\\n",
    "Langston Hughes,Adrienne Rich,Nikki Giovanni\"\n",
    "authors_name=authors.split(',')\n",
    "print(authors_name)"
   ]
  },
  {
   "cell_type": "markdown",
   "id": "493acbc4",
   "metadata": {},
   "source": [
    "How to extract only the last names of the authors?"
   ]
  },
  {
   "cell_type": "code",
   "execution_count": 38,
   "id": "37195621",
   "metadata": {},
   "outputs": [
    {
     "name": "stdout",
     "output_type": "stream",
     "text": [
      "Lorde\n",
      "Mistral\n",
      "Toomer\n",
      "Qi\n",
      "Whitman\n",
      "Silverstein\n",
      "Boullosa\n",
      "Suraiyya\n",
      "Hughes\n",
      "Rich\n",
      "Giovanni\n"
     ]
    }
   ],
   "source": [
    "for name in authors_name:\n",
    "    lst_name=name.split(' ')[-1]\n",
    "    print(lst_name)    "
   ]
  },
  {
   "cell_type": "code",
   "execution_count": 39,
   "id": "cbfc35fb",
   "metadata": {},
   "outputs": [
    {
     "name": "stdout",
     "output_type": "stream",
     "text": [
      "['And if you said, \"This life ain\\'t good enough.\"', 'I would give my world to lift you up', 'I could change my life to better suit your mood', \"Because you're so smooth\"]\n"
     ]
    }
   ],
   "source": [
    "smooth_chorus = \\\n",
    "\"\"\"And if you said, \"This life ain't good enough.\"\n",
    "I would give my world to lift you up\n",
    "I could change my life to better suit your mood\n",
    "Because you're so smooth\"\"\"\n",
    "chorus_lines = smooth_chorus.split('\\n')\n",
    "print(chorus_lines)"
   ]
  },
  {
   "cell_type": "markdown",
   "id": "e31e1ccb",
   "metadata": {},
   "source": [
    "## Joinning Strings: `.join()`"
   ]
  },
  {
   "cell_type": "markdown",
   "id": "3cc0577f",
   "metadata": {},
   "source": [
    "* It is essentially the opposite of `.split()`, it joins a **list of strings** together with a given delimiter. \n",
    "* SYNTAX:\n",
    "    ```python3\n",
    "    'delimiter'.join(list_you_want_to_join)\n",
    "    ```\n"
   ]
  },
  {
   "cell_type": "code",
   "execution_count": 40,
   "id": "6449f7f8",
   "metadata": {},
   "outputs": [
    {
     "name": "stdout",
     "output_type": "stream",
     "text": [
      "Black reapers with the sound of steel on stones\n"
     ]
    }
   ],
   "source": [
    "reapers_line_one_words = [\"Black\", \"reapers\", \"with\", \"the\", \"sound\", \"of\", \"steel\", \"on\", \"stones\"]\n",
    "reapers_line_one=\" \".join(reapers_line_one_words)\n",
    "print(reapers_line_one)"
   ]
  },
  {
   "cell_type": "code",
   "execution_count": 43,
   "id": "42fb27ad",
   "metadata": {},
   "outputs": [
    {
     "name": "stdout",
     "output_type": "stream",
     "text": [
      "Black,reapers,with,the,sound,of,steel,on,stones\n"
     ]
    }
   ],
   "source": [
    "reapers_line_one_words = [\"Black\", \"reapers\", \"with\", \"the\", \"sound\", \"of\", \"steel\", \"on\", \"stones\"]\n",
    "reapers_line_one=\",\".join(reapers_line_one_words)\n",
    "print(reapers_line_one)"
   ]
  },
  {
   "cell_type": "code",
   "execution_count": 42,
   "id": "6e75c6e1",
   "metadata": {},
   "outputs": [
    {
     "name": "stdout",
     "output_type": "stream",
     "text": [
      "Black\n",
      "reapers\n",
      "with\n",
      "the\n",
      "sound\n",
      "of\n",
      "steel\n",
      "on\n",
      "stones\n"
     ]
    }
   ],
   "source": [
    "reapers_line_one_words = [\"Black\", \"reapers\", \"with\", \"the\", \"sound\", \"of\", \"steel\", \"on\", \"stones\"]\n",
    "reapers_line_one=\"\\n\".join(reapers_line_one_words)\n",
    "print(reapers_line_one)"
   ]
  },
  {
   "cell_type": "markdown",
   "id": "226939b7",
   "metadata": {},
   "source": [
    "## `.strip()`"
   ]
  },
  {
   "cell_type": "markdown",
   "id": "42a91383",
   "metadata": {},
   "source": [
    "When working with strings that come from real data, you will often find that the strings aren’t super clean. \n",
    "* You’ll find lots of extra whitespace, unnecessary line breaks, and rogue tabs. \n",
    "* Python provides a great method for cleaning strings.: `.strip()`. \n",
    "    * It does not modifies original string\n",
    "* Stripping a string **removes all whitespace characters from the beginning and end**."
   ]
  },
  {
   "cell_type": "code",
   "execution_count": 72,
   "id": "44b19a03",
   "metadata": {},
   "outputs": [
    {
     "name": "stdout",
     "output_type": "stream",
     "text": [
      "25\n",
      "rob thomas       \n",
      "17\n",
      "rob thomas\n",
      "10\n"
     ]
    }
   ],
   "source": [
    "featuring = \"!!!rob thomas       !!!!!\"\n",
    "print(len(featuring))\n",
    "featuring_strip_exclaim=featuring.strip('!')\n",
    "print(featuring_strip_exclaim)\n",
    "print(len(featuring_strip_exclaim))\n",
    "featuring_strip_exclaim_space=featuring_strip_exclaim.strip()\n",
    "print(featuring_strip_exclaim_space)\n",
    "print(len(featuring_strip_exclaim_space))"
   ]
  },
  {
   "cell_type": "markdown",
   "id": "293c48c5",
   "metadata": {},
   "source": [
    "First, we need to strip from outer side and then proceed inwards"
   ]
  },
  {
   "cell_type": "code",
   "execution_count": 73,
   "id": "d9fc1a6e",
   "metadata": {},
   "outputs": [
    {
     "name": "stdout",
     "output_type": "stream",
     "text": [
      "!!!rob thomas       !!!!!\n",
      "25\n"
     ]
    }
   ],
   "source": [
    "featuring = \"!!!rob thomas       !!!!!\"\n",
    "featuring_strip_space=featuring.strip()\n",
    "print(featuring_strip_space)\n",
    "print(len(featuring_strip_space))"
   ]
  },
  {
   "cell_type": "markdown",
   "id": "ead641fc",
   "metadata": {},
   "source": [
    "## `.replace()`"
   ]
  },
  {
   "cell_type": "markdown",
   "id": "38866e8e",
   "metadata": {},
   "source": [
    "* Replace takes **two arguments** and replaces all instances of the first argument in a string with the second argument.\n",
    "* **<span style=\"color:Red\">NOTE:</span>** it does not modify original string\n",
    "   ```python3\n",
    "   string_name.replace(character_being_replaced,new_character)\n",
    "```"
   ]
  },
  {
   "cell_type": "code",
   "execution_count": 74,
   "id": "0a987497",
   "metadata": {},
   "outputs": [],
   "source": [
    "sentence='I study in Tokyo Univeristy'"
   ]
  },
  {
   "cell_type": "code",
   "execution_count": 76,
   "id": "feed01ad",
   "metadata": {},
   "outputs": [
    {
     "name": "stdout",
     "output_type": "stream",
     "text": [
      "I study in Tokyo Univeristy\n",
      "I study in Hokkaido Univeristy\n"
     ]
    }
   ],
   "source": [
    "sentence_replace=sentence.replace('Tokyo','Hokkaido')\n",
    "print(sentence)\n",
    "print(sentence_replace)"
   ]
  },
  {
   "cell_type": "markdown",
   "id": "dc7554aa",
   "metadata": {},
   "source": [
    "## `.find()`"
   ]
  },
  {
   "cell_type": "markdown",
   "id": "0636e62b",
   "metadata": {},
   "source": [
    "* `find()` takes a string as an argument and searches for the string it was run on for that string. \n",
    "* It then returns the **first index value** where that string is located."
   ]
  },
  {
   "cell_type": "code",
   "execution_count": 77,
   "id": "29d014b6",
   "metadata": {},
   "outputs": [
    {
     "data": {
      "text/plain": [
       "8"
      ]
     },
     "execution_count": 77,
     "metadata": {},
     "output_type": "execute_result"
    }
   ],
   "source": [
    "sentence.find('in')"
   ]
  },
  {
   "cell_type": "code",
   "execution_count": 79,
   "id": "3beec39c",
   "metadata": {},
   "outputs": [
    {
     "name": "stdout",
     "output_type": "stream",
     "text": [
      "[0]\n",
      "[0, 6]\n"
     ]
    }
   ],
   "source": [
    "target = \"abc\"\n",
    "string = \"abcdababcd\"\n",
    "indices = []\n",
    "for i in range(len(string)):\n",
    "    if string[i:i+len(target)] == target:\n",
    "        indices.append(i)\n",
    "        print(indices) # [0, 6]"
   ]
  },
  {
   "cell_type": "markdown",
   "id": "7d1104a5",
   "metadata": {},
   "source": [
    "## `.format()`"
   ]
  },
  {
   "cell_type": "markdown",
   "id": "fee615ef",
   "metadata": {},
   "source": [
    "* Handy string method for **including variables in strings**. \n",
    "* `.format()` takes variables as an argument and includes them in the string that it is run on.\n",
    "* You include `{}` marks as placeholders for where those variables will be imported."
   ]
  },
  {
   "cell_type": "code",
   "execution_count": 82,
   "id": "95f87706",
   "metadata": {},
   "outputs": [
    {
     "name": "stdout",
     "output_type": "stream",
     "text": [
      "my favourite song is Dil to pagal hai of movie Dil se\n"
     ]
    }
   ],
   "source": [
    "print('my favourite song is {song} of movie {movie}'.format(song='Dil to pagal hai',movie='Dil se'))"
   ]
  },
  {
   "cell_type": "code",
   "execution_count": 87,
   "id": "07043853",
   "metadata": {},
   "outputs": [
    {
     "name": "stdout",
     "output_type": "stream",
     "text": [
      "The poem \"My India\" is written by Abhinav Dengri.\n"
     ]
    }
   ],
   "source": [
    "def poem_title_card(poet,title):\n",
    "    return '''The poem \"{title}\" is written by {poet}.'''.format(title=title,poet=poet)\n",
    "print(poem_title_card(\"Abhinav Dengri\",\"My India\"))"
   ]
  },
  {
   "cell_type": "markdown",
   "id": "b3555f87",
   "metadata": {},
   "source": [
    "### Integer"
   ]
  },
  {
   "cell_type": "code",
   "execution_count": 84,
   "id": "3a62971a",
   "metadata": {},
   "outputs": [
    {
     "name": "stdout",
     "output_type": "stream",
     "text": [
      "<class 'int'>\n",
      "10 + 20 = 30\n"
     ]
    }
   ],
   "source": [
    "a = 10\n",
    "b = 20\n",
    "print(type(a))\n",
    "print(\"{} + {} = {}\".format(a, b, a+b)) #Thus we can have any input data type in format.\n"
   ]
  },
  {
   "cell_type": "markdown",
   "id": "23644ebc",
   "metadata": {},
   "source": [
    "# Functions in more detail"
   ]
  },
  {
   "cell_type": "markdown",
   "id": "9423b103",
   "metadata": {},
   "source": [
    "## None: It's nothing!"
   ]
  },
  {
   "cell_type": "markdown",
   "id": "ad30e211",
   "metadata": {},
   "source": [
    "<code style=\"background:yellow;color:black\">How do you define a variable that you can’t assign a value to yet? You use None.</code>\n"
   ]
  },
  {
   "cell_type": "markdown",
   "id": "4b748eca",
   "metadata": {},
   "source": [
    "`None` is a special value in Python. It is `unique` (there\n",
    "can’t be two different Nones) and `immutable` (you can’t\n",
    "update None or assign new attributes to it)."
   ]
  },
  {
   "cell_type": "markdown",
   "id": "6727b08e",
   "metadata": {},
   "source": [
    "`None` is **falsy**, meaning that it evaluates to `False` in an `if` statement."
   ]
  },
  {
   "cell_type": "code",
   "execution_count": 46,
   "id": "2196b8c6",
   "metadata": {},
   "outputs": [
    {
     "name": "stdout",
     "output_type": "stream",
     "text": [
      "Goodbye\n"
     ]
    }
   ],
   "source": [
    "none_var = None\n",
    "if none_var:\n",
    "    print(\"Hello!\")\n",
    "else:\n",
    "    print(\"Goodbye\")\n",
    "# Prints \"Goodbye"
   ]
  },
  {
   "cell_type": "code",
   "execution_count": 50,
   "id": "ad72d2b3",
   "metadata": {},
   "outputs": [
    {
     "name": "stdout",
     "output_type": "stream",
     "text": [
      "<class 'NoneType'>\n"
     ]
    }
   ],
   "source": [
    "print(type(none_var))"
   ]
  },
  {
   "cell_type": "code",
   "execution_count": 52,
   "id": "c6575946",
   "metadata": {},
   "outputs": [
    {
     "name": "stdout",
     "output_type": "stream",
     "text": [
      "2\n"
     ]
    }
   ],
   "source": [
    "none_var = 2\n",
    "print(none_var)"
   ]
  },
  {
   "cell_type": "markdown",
   "id": "f32fd3fd",
   "metadata": {},
   "source": [
    "## Default Return"
   ]
  },
  {
   "cell_type": "markdown",
   "id": "52aacd17",
   "metadata": {},
   "source": [
    "<code style=\"background:yellow;color:black\">What does a function return when it doesn’t return anything?</code>"
   ]
  },
  {
   "cell_type": "markdown",
   "id": "3cdf0df4",
   "metadata": {},
   "source": [
    "A Python function that does not have\n",
    "any explicit return statement will return `None` after\n",
    "completing. \n",
    "\n",
    "This means that all functions in Python\n",
    "return something, whether it’s explicit or not. "
   ]
  },
  {
   "cell_type": "code",
   "execution_count": 55,
   "id": "1398fdd0",
   "metadata": {},
   "outputs": [
    {
     "name": "stdout",
     "output_type": "stream",
     "text": [
      "You've hit the point of no return\n",
      "None\n",
      "<class 'NoneType'>\n"
     ]
    }
   ],
   "source": [
    "def no_return():\n",
    "    print(\"You've hit the point of no return\")\n",
    "    # notice no return statement\n",
    "here_it_is = no_return()\n",
    "print(here_it_is)\n",
    "print(type(here_it_is))"
   ]
  },
  {
   "cell_type": "markdown",
   "id": "fcce4507",
   "metadata": {},
   "source": [
    "## Default Argument"
   ]
  },
  {
   "cell_type": "markdown",
   "id": "62b60f7b",
   "metadata": {},
   "source": [
    "* A standard function definition that defines two parameters requires two arguments passed into the function."
   ]
  },
  {
   "cell_type": "code",
   "execution_count": 61,
   "id": "cc9566fd",
   "metadata": {},
   "outputs": [
    {
     "data": {
      "text/plain": [
       "('johnny_thunder', '1234')"
      ]
     },
     "execution_count": 61,
     "metadata": {},
     "output_type": "execute_result"
    }
   ],
   "source": [
    "def create_user(username,password):\n",
    "    return username,password\n",
    "# Function call with all two required arguments\n",
    "create_user('johnny_thunder','1234')"
   ]
  },
  {
   "cell_type": "code",
   "execution_count": 62,
   "id": "e645ca08",
   "metadata": {},
   "outputs": [
    {
     "name": "stdout",
     "output_type": "stream",
     "text": [
      "('johnny_thunder', True)\n"
     ]
    }
   ],
   "source": [
    "user1=create_user('johnny_thunder', True)\n",
    "print(user1)"
   ]
  },
  {
   "cell_type": "code",
   "execution_count": 64,
   "id": "a1a9668b",
   "metadata": {},
   "outputs": [],
   "source": [
    "# Raises a \"TypeError: Missing 1 required positional argument\"\n",
    "# user2 = create_user('djohansen')"
   ]
  },
  {
   "cell_type": "markdown",
   "id": "179d1358",
   "metadata": {},
   "source": [
    "### How to overcome \"TypeError: Missing required positional argument\""
   ]
  },
  {
   "cell_type": "markdown",
   "id": "8c9fb9d3",
   "metadata": {},
   "source": [
    "* If we give a `default argument` to a Python function that argument won’t be required when we call the function.\n",
    "* The parameter with default argument is called `optional parameter`."
   ]
  },
  {
   "cell_type": "code",
   "execution_count": 66,
   "id": "cee3e6a0",
   "metadata": {},
   "outputs": [],
   "source": [
    "def create_user(username,password='abc#123'):\n",
    "    return username,password"
   ]
  },
  {
   "cell_type": "code",
   "execution_count": 67,
   "id": "165ac7ea",
   "metadata": {},
   "outputs": [
    {
     "name": "stdout",
     "output_type": "stream",
     "text": [
      "('djohansen', 'abc#123')\n"
     ]
    }
   ],
   "source": [
    "user2 = create_user('djohansen')\n",
    "print(user2)"
   ]
  },
  {
   "cell_type": "markdown",
   "id": "4199cc90",
   "metadata": {},
   "source": [
    "## Using Keyword and Positional Arguments"
   ]
  },
  {
   "cell_type": "code",
   "execution_count": null,
   "id": "df22b5ce",
   "metadata": {},
   "outputs": [],
   "source": []
  },
  {
   "cell_type": "code",
   "execution_count": 37,
   "id": "48900afe",
   "metadata": {},
   "outputs": [],
   "source": [
    "## Keyword Arguments"
   ]
  },
  {
   "cell_type": "code",
   "execution_count": 38,
   "id": "d7abccb3",
   "metadata": {},
   "outputs": [],
   "source": [
    "## Don't Use Mutable Default Arguments"
   ]
  },
  {
   "cell_type": "code",
   "execution_count": 39,
   "id": "427e14d6",
   "metadata": {},
   "outputs": [],
   "source": [
    "## Using None as a Sentinel"
   ]
  },
  {
   "cell_type": "code",
   "execution_count": 40,
   "id": "b5daeb0e",
   "metadata": {},
   "outputs": [],
   "source": [
    "## Unpacking Multiple Returns"
   ]
  },
  {
   "cell_type": "code",
   "execution_count": 41,
   "id": "87c9e333",
   "metadata": {},
   "outputs": [],
   "source": [
    "## Positional Argument Unpacking"
   ]
  },
  {
   "cell_type": "code",
   "execution_count": 42,
   "id": "5fb3b49c",
   "metadata": {},
   "outputs": [],
   "source": [
    "## Keyword Argument Unpacking"
   ]
  },
  {
   "cell_type": "code",
   "execution_count": 43,
   "id": "511c2185",
   "metadata": {},
   "outputs": [],
   "source": [
    "## Using Both Keyword and Positional Unpacking"
   ]
  },
  {
   "cell_type": "code",
   "execution_count": 44,
   "id": "64ce7898",
   "metadata": {},
   "outputs": [],
   "source": [
    "## Passing Containers as Arguments"
   ]
  },
  {
   "cell_type": "markdown",
   "id": "2385a475",
   "metadata": {},
   "source": [
    "# Miscellaneous"
   ]
  },
  {
   "cell_type": "markdown",
   "id": "ca0eac1e",
   "metadata": {},
   "source": [
    "## Limiting the decimal of float"
   ]
  },
  {
   "cell_type": "code",
   "execution_count": 4,
   "id": "7f43687f",
   "metadata": {},
   "outputs": [
    {
     "name": "stdout",
     "output_type": "stream",
     "text": [
      "10.946\n",
      "10.95\n",
      "10.9\n"
     ]
    }
   ],
   "source": [
    "a=10.9459\n",
    "print(\"%.3f\"%a)\n",
    "print(\"%.2f\"%a)\n",
    "print(\"%.1f\"%a)"
   ]
  },
  {
   "cell_type": "markdown",
   "id": "68534e6d",
   "metadata": {},
   "source": [
    "## Guess the output"
   ]
  },
  {
   "cell_type": "code",
   "execution_count": 25,
   "id": "03d2a152",
   "metadata": {},
   "outputs": [],
   "source": [
    "def first_three_multiples(num):\n",
    "    return print(str(num*1) + chr(10) + str(num*2) + chr(10) + str(num*3))\n",
    "#first_three_multiples(3)"
   ]
  },
  {
   "cell_type": "code",
   "execution_count": 26,
   "id": "a99a49ed",
   "metadata": {},
   "outputs": [],
   "source": [
    "def first_three_multiples(num):\n",
    "    return print(f\"{num}\\n{num * 2}\\n{num * 3}\")\n",
    "#first_three_multiples(3)"
   ]
  },
  {
   "cell_type": "code",
   "execution_count": 27,
   "id": "4e748c6f",
   "metadata": {},
   "outputs": [],
   "source": [
    "def first_three_multiples(num):\n",
    "    return print(num,num*2,num*3,sep='\\n')\n",
    "#first_three_multiples(3)"
   ]
  },
  {
   "cell_type": "code",
   "execution_count": 28,
   "id": "6dc2b3ae",
   "metadata": {},
   "outputs": [],
   "source": [
    "def dog_years(name,age):\n",
    "    dog_age=age*7\n",
    "    return (print(name,\", you are\", dog_age,\"years old in dog years\"))\n",
    "#dog_years(\"Lola\", 16)"
   ]
  },
  {
   "cell_type": "code",
   "execution_count": 29,
   "id": "64b3081f",
   "metadata": {},
   "outputs": [],
   "source": [
    "def dog_years(name, age):\n",
    "    return name+\", you are \"+str(age*7)+\" years old in dog years\"\n",
    "#print(dog_years(\"Lola\", 16))"
   ]
  },
  {
   "cell_type": "code",
   "execution_count": 30,
   "id": "49788240",
   "metadata": {},
   "outputs": [],
   "source": [
    "my_baby_bool = \"true\"\n",
    "#print(type(my_baby_bool))\n",
    "my_baby_bool_two = True\n",
    "#print(type(my_baby_bool_two))"
   ]
  },
  {
   "cell_type": "markdown",
   "id": "3483df2f",
   "metadata": {},
   "source": [
    "## Types of division"
   ]
  },
  {
   "cell_type": "code",
   "execution_count": 31,
   "id": "51bfd59a",
   "metadata": {},
   "outputs": [
    {
     "name": "stdout",
     "output_type": "stream",
     "text": [
      "1.6666666666666667 -1.6666666666666667\n"
     ]
    }
   ],
   "source": [
    "print(5/3,-5/3)"
   ]
  },
  {
   "cell_type": "markdown",
   "id": "13203710",
   "metadata": {},
   "source": [
    "### Integer division"
   ]
  },
  {
   "cell_type": "code",
   "execution_count": 32,
   "id": "76b746df",
   "metadata": {},
   "outputs": [
    {
     "name": "stdout",
     "output_type": "stream",
     "text": [
      "1 -2 -2\n"
     ]
    }
   ],
   "source": [
    "print(5//3,-5//3,5//(-3)) "
   ]
  },
  {
   "cell_type": "code",
   "execution_count": 34,
   "id": "10ee89f1",
   "metadata": {},
   "outputs": [
    {
     "name": "stdout",
     "output_type": "stream",
     "text": [
      "1.0 -2.0\n"
     ]
    }
   ],
   "source": [
    "print(5.0//3, -5//3.0) ##Integer division with floats"
   ]
  }
 ],
 "metadata": {
  "kernelspec": {
   "display_name": "Python 3 (ipykernel)",
   "language": "python",
   "name": "python3"
  },
  "language_info": {
   "codemirror_mode": {
    "name": "ipython",
    "version": 3
   },
   "file_extension": ".py",
   "mimetype": "text/x-python",
   "name": "python",
   "nbconvert_exporter": "python",
   "pygments_lexer": "ipython3",
   "version": "3.9.7"
  },
  "toc": {
   "base_numbering": 1,
   "nav_menu": {},
   "number_sections": true,
   "sideBar": true,
   "skip_h1_title": false,
   "title_cell": "Table of Contents",
   "title_sidebar": "Contents",
   "toc_cell": false,
   "toc_position": {
    "height": "calc(100% - 180px)",
    "left": "10px",
    "top": "150px",
    "width": "345.966px"
   },
   "toc_section_display": true,
   "toc_window_display": true
  }
 },
 "nbformat": 4,
 "nbformat_minor": 5
}
